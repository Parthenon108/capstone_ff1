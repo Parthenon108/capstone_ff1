{
 "cells": [
  {
   "cell_type": "code",
   "execution_count": 69,
   "metadata": {},
   "outputs": [],
   "source": [
    "import pandas as pd\n",
    "import altair as alt\n",
    "\n",
    "# Set the notebook to display all columns of a dataframe\n",
    "pd.set_option('display.max_columns', None)\n",
    "\n",
    "# These are the datasets uploaded by Jacob to blob storage:\n",
    "df_app = pd.read_parquet('do_not_commit/Datasets/AppError_Events_PARSED.parquet')\n",
    "df_win = pd.read_parquet('do_not_commit/Datasets/WindowsError_Events_PARSED.parquet')\n",
    "df_hang = pd.read_parquet('do_not_commit/Datasets/AppHang_Events_PARSED.parquet')"
   ]
  },
  {
   "cell_type": "code",
   "execution_count": 49,
   "metadata": {},
   "outputs": [],
   "source": [
    "def get_compare_chart(in_data, in_col, in_title):\n",
    " \n",
    " count_df2 = in_data.groupby(in_col).size().reset_index().rename(columns={0:'count'})\n",
    "\n",
    " # Sort order for chart\n",
    " count_df2.sort_values('count', ascending = False, inplace=True)\n",
    " sort_order = [val for val in count_df2[in_col].unique()]\n",
    "\n",
    " out_chart = alt.Chart(count_df2).mark_bar().encode(\n",
    "\n",
    "     x = alt.X('count:Q'),\n",
    "     y = alt.Y(in_col+':N', sort=sort_order),\n",
    "     tooltip ='count:Q'\n",
    "\n",
    " ).properties(title = in_title)\n",
    "\n",
    " return out_chart\n",
    "\n",
    "def show_bar_for_winEvent(eventname_list, in_df, visualize_attr):\n",
    "  \n",
    "  for eventname in eventname_list:\n",
    "\n",
    "    current_df = in_df[in_df['EventName'] == eventname]\n",
    "    out_chart = get_compare_chart(current_df, visualize_attr, f'Counts of {visualize_attr} types for {eventname} events')\n",
    "\n",
    "    yield out_chart\n",
    "\n",
    "# Get the event names \n",
    "eventnames = df_win['EventName'].unique()\n",
    "charts = show_bar_for_winEvent(eventnames, df_win, 'ProblemSignatureP1_Application')"
   ]
  },
  {
   "cell_type": "code",
   "execution_count": 68,
   "metadata": {},
   "outputs": [
    {
     "ename": "StopIteration",
     "evalue": "",
     "output_type": "error",
     "traceback": [
      "\u001B[1;31m---------------------------------------------------------------------------\u001B[0m",
      "\u001B[1;31mStopIteration\u001B[0m                             Traceback (most recent call last)",
      "Cell \u001B[1;32mIn[68], line 1\u001B[0m\n\u001B[1;32m----> 1\u001B[0m current_chart \u001B[39m=\u001B[39m \u001B[39mnext\u001B[39;49m(charts)\n\u001B[0;32m      3\u001B[0m current_chart\n",
      "\u001B[1;31mStopIteration\u001B[0m: "
     ]
    }
   ],
   "source": [
    "# Uncomment below to cycle through charts:\n",
    "# current_chart = next(charts)\n",
    "# current_chart"
   ]
  }
 ],
 "metadata": {
  "kernelspec": {
   "display_name": "Python 3",
   "language": "python",
   "name": "python3"
  },
  "language_info": {
   "codemirror_mode": {
    "name": "ipython",
    "version": 3
   },
   "file_extension": ".py",
   "mimetype": "text/x-python",
   "name": "python",
   "nbconvert_exporter": "python",
   "pygments_lexer": "ipython3",
   "version": "3.11.3"
  },
  "orig_nbformat": 4
 },
 "nbformat": 4,
 "nbformat_minor": 2
}
