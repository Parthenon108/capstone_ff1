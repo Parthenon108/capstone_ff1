{
 "cells": [
  {
   "cell_type": "code",
   "execution_count": 1,
   "metadata": {
    "ExecuteTime": {
     "end_time": "2023-08-04T01:45:03.818519632Z",
     "start_time": "2023-08-04T01:45:03.621933559Z"
    },
    "collapsed": true
   },
   "outputs": [],
   "source": [
    "import pandas as pd\n",
    "import numpy as np\n",
    "from datetime import datetime\n",
    "from datetime import date"
   ]
  },
  {
   "cell_type": "code",
   "execution_count": 3,
   "metadata": {
    "ExecuteTime": {
     "end_time": "2023-08-04T01:45:04.596267360Z",
     "start_time": "2023-08-04T01:45:03.909885708Z"
    },
    "collapsed": false
   },
   "outputs": [],
   "source": [
    "df = pd.read_parquet('../do_not_commit/Datasets/Persist_Operating_System_DATA.pq')"
   ]
  },
  {
   "cell_type": "code",
   "execution_count": 15,
   "metadata": {
    "ExecuteTime": {
     "end_time": "2023-08-04T02:26:32.388881553Z",
     "start_time": "2023-08-04T02:26:32.383852887Z"
    },
    "collapsed": false
   },
   "outputs": [],
   "source": [
    "def calculate_age_in_days(target_date_str, in_date):\n",
    "\n",
    "    # Convert target_date_str to a Python datetime object\n",
    "    target_date = datetime.strptime(target_date_str, '%Y-%m-%d').date()\n",
    "    in_date = datetime.strptime(in_date, '%Y-%m-%d').date()\n",
    "\n",
    "    # Calculate the age in days\n",
    "    age_in_days = (in_date - target_date).days\n",
    "\n",
    "    return age_in_days\n",
    "\n",
    "\n",
    "def create_program_features(in_df):\n",
    "\n",
    "    # Change effective date to type date\n",
    "    in_df['InstallDate00'] = pd.to_datetime(in_df['InstallDate00']).dt.strftime('%Y-%m-%d')\n",
    "\n",
    "    # Get age in days\n",
    "    todaydate = date(2023, 7, 4)\n",
    "    in_df['InstallAge'] = in_df['InstallDate00'].apply(lambda x: calculate_age_in_days(x, todaydate)\n",
    "    if pd.notnull(x) else np.nan)\n",
    "    return in_df\n",
    "\n",
    "\n",
    "def create_last_boot_features(in_df):\n",
    "\n",
    "    # Change effective date to type date\n",
    "    in_df['LastBootUpTime00'] = pd.to_datetime(in_df['LastBootUpTime00']).dt.strftime('%Y-%m-%d')\n",
    "    in_df['RWB_EFFECTIVE_DATE'] = in_df['RWB_EFFECTIVE_DATE'].astype(str)\n",
    "\n",
    "    # Get age in days\n",
    "    in_df['LastBootAge'] = in_df.apply(lambda x: calculate_age_in_days(x['LastBootUpTime00'], x['RWB_EFFECTIVE_DATE'])\n",
    "    if pd.notnull(x['LastBootUpTime00']) else np.nan, axis=1)\n",
    "    return in_df"
   ]
  },
  {
   "cell_type": "code",
   "execution_count": null,
   "outputs": [],
   "source": [
    "features = df.groupby(['MachineID', 'RWB_EFFECTIVE_DATE']).agg(\n",
    "    {\n",
    "        'InstallDate00':'max',\n",
    "        'LastBootUpTime00':'min',\n",
    "        'TotalVirtualMemorySize00':'max'\n",
    "    }\n",
    ").reset_index()\n",
    "features"
   ],
   "metadata": {
    "collapsed": false
   }
  },
  {
   "cell_type": "code",
   "execution_count": 11,
   "metadata": {
    "ExecuteTime": {
     "end_time": "2023-08-04T02:26:20.934783172Z",
     "start_time": "2023-08-04T02:26:11.302227105Z"
    },
    "collapsed": false
   },
   "outputs": [],
   "source": [
    "df = create_program_features(features)"
   ]
  },
  {
   "cell_type": "code",
   "execution_count": 16,
   "metadata": {
    "ExecuteTime": {
     "end_time": "2023-08-04T02:26:43.985494489Z",
     "start_time": "2023-08-04T02:26:34.486369960Z"
    },
    "collapsed": false
   },
   "outputs": [],
   "source": [
    "df = create_last_boot_features(df)"
   ]
  },
  {
   "cell_type": "code",
   "execution_count": 18,
   "metadata": {
    "ExecuteTime": {
     "end_time": "2023-08-04T02:27:38.725699352Z",
     "start_time": "2023-08-04T02:27:38.510399408Z"
    },
    "collapsed": false
   },
   "outputs": [],
   "source": [
    "df.to_parquet('../do_not_commit/FeatureDatasets/operating_system_features.pq')"
   ]
  }
 ],
 "metadata": {
  "kernelspec": {
   "display_name": "Python 3",
   "language": "python",
   "name": "python3"
  },
  "language_info": {
   "codemirror_mode": {
    "name": "ipython",
    "version": 3
   },
   "file_extension": ".py",
   "mimetype": "text/x-python",
   "name": "python",
   "nbconvert_exporter": "python",
   "pygments_lexer": "ipython3",
   "version": "3.11.4"
  }
 },
 "nbformat": 4,
 "nbformat_minor": 0
}
