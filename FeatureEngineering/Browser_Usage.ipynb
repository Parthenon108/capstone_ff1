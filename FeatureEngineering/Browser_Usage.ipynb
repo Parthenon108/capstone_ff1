{
 "cells": [
  {
   "cell_type": "code",
   "execution_count": 2,
   "metadata": {},
   "outputs": [],
   "source": [
    "import pandas as pd\n",
    "import numpy as np \n",
    "\n",
    "# Read in the parquet file \n",
    "df = pd.read_parquet('assets/Persist_BROWSER_USAGE_DATA.parquet')"
   ]
  },
  {
   "cell_type": "code",
   "execution_count": null,
   "metadata": {},
   "outputs": [],
   "source": [
    "def get_browser_features(in_df):\n",
    "\n",
    "    # Retrieve only needed columns \n",
    "    in_df = in_df[['MachineID', 'RWB_EFFECTIVE_DATE', 'UsagePercentage00', 'BrowserName00']]\n",
    "\n",
    "    # Drop data for May 20th (duplicates occur on this day)\n",
    "    in_df = in_df[in_df['RWB_EFFECTIVE_DATE'] != '2023-05-20']\n",
    "\n",
    "    # Pivot the data \n",
    "    key_columns = ['MachineID', 'RWB_EFFECTIVE_DATE']\n",
    "    out_df = in_df.pivot(index=key_columns,\n",
    "                         columns = 'BrowserName00',\n",
    "                         values='UsagePercentage00'\n",
    "                         )\n",
    "    out_df = out_df.reset_index()\n",
    "\n",
    "    # Rename columns for specificity\n",
    "    out_df.columns = [col+'_usage' if col not in key_columns else col for col in out_df.columns]\n",
    "\n",
    "    # Export result to parquet\n",
    "    out_df.to_parquet('assets/browser_usage_features.parquet', index=False)\n",
    "\n",
    "    return out_df \n",
    "\n",
    "result = get_browser_features(df)\n",
    "result.head()"
   ]
  }
 ],
 "metadata": {
  "kernelspec": {
   "display_name": "Python 3",
   "language": "python",
   "name": "python3"
  },
  "language_info": {
   "codemirror_mode": {
    "name": "ipython",
    "version": 3
   },
   "file_extension": ".py",
   "mimetype": "text/x-python",
   "name": "python",
   "nbconvert_exporter": "python",
   "pygments_lexer": "ipython3",
   "version": "3.11.4"
  },
  "orig_nbformat": 4
 },
 "nbformat": 4,
 "nbformat_minor": 2
}
