{
 "cells": [
  {
   "cell_type": "code",
   "execution_count": 24,
   "metadata": {
    "collapsed": true,
    "ExecuteTime": {
     "end_time": "2023-08-06T17:11:45.819731456Z",
     "start_time": "2023-08-06T17:11:45.775678488Z"
    }
   },
   "outputs": [],
   "source": [
    "import pandas as pd"
   ]
  },
  {
   "cell_type": "code",
   "execution_count": 25,
   "outputs": [],
   "source": [
    "df = pd.read_parquet('../do_not_commit/Datasets/Persist_PC_Memory_DATA.pq')"
   ],
   "metadata": {
    "collapsed": false,
    "ExecuteTime": {
     "end_time": "2023-08-06T17:11:46.043678693Z",
     "start_time": "2023-08-06T17:11:45.795517736Z"
    }
   }
  },
  {
   "cell_type": "code",
   "execution_count": 29,
   "outputs": [
    {
     "data": {
      "text/plain": "         MachineID RWB_EFFECTIVE_DATE  Total RAM  Total Page File Space\n0         16783564         2023-01-25    8388016                8912896\n1         16783564         2023-01-26    8388016                8912896\n2         16783564         2023-01-27    8388016                8912896\n3         16783564         2023-01-28    8388016                8912896\n4         16783564         2023-01-29    8388016                8912896\n...            ...                ...        ...                    ...\n1668177   16819026         2023-07-03   16549752               17825792\n1668178   16819026         2023-07-04   16549752               17825792\n1668179   16819027         2023-07-03   33341464               35651584\n1668180   16819027         2023-07-04   33341464               35651584\n1668181   16819028         2023-07-04   32968344                2097152\n\n[1668182 rows x 4 columns]",
      "text/html": "<div>\n<style scoped>\n    .dataframe tbody tr th:only-of-type {\n        vertical-align: middle;\n    }\n\n    .dataframe tbody tr th {\n        vertical-align: top;\n    }\n\n    .dataframe thead th {\n        text-align: right;\n    }\n</style>\n<table border=\"1\" class=\"dataframe\">\n  <thead>\n    <tr style=\"text-align: right;\">\n      <th></th>\n      <th>MachineID</th>\n      <th>RWB_EFFECTIVE_DATE</th>\n      <th>Total RAM</th>\n      <th>Total Page File Space</th>\n    </tr>\n  </thead>\n  <tbody>\n    <tr>\n      <th>0</th>\n      <td>16783564</td>\n      <td>2023-01-25</td>\n      <td>8388016</td>\n      <td>8912896</td>\n    </tr>\n    <tr>\n      <th>1</th>\n      <td>16783564</td>\n      <td>2023-01-26</td>\n      <td>8388016</td>\n      <td>8912896</td>\n    </tr>\n    <tr>\n      <th>2</th>\n      <td>16783564</td>\n      <td>2023-01-27</td>\n      <td>8388016</td>\n      <td>8912896</td>\n    </tr>\n    <tr>\n      <th>3</th>\n      <td>16783564</td>\n      <td>2023-01-28</td>\n      <td>8388016</td>\n      <td>8912896</td>\n    </tr>\n    <tr>\n      <th>4</th>\n      <td>16783564</td>\n      <td>2023-01-29</td>\n      <td>8388016</td>\n      <td>8912896</td>\n    </tr>\n    <tr>\n      <th>...</th>\n      <td>...</td>\n      <td>...</td>\n      <td>...</td>\n      <td>...</td>\n    </tr>\n    <tr>\n      <th>1668177</th>\n      <td>16819026</td>\n      <td>2023-07-03</td>\n      <td>16549752</td>\n      <td>17825792</td>\n    </tr>\n    <tr>\n      <th>1668178</th>\n      <td>16819026</td>\n      <td>2023-07-04</td>\n      <td>16549752</td>\n      <td>17825792</td>\n    </tr>\n    <tr>\n      <th>1668179</th>\n      <td>16819027</td>\n      <td>2023-07-03</td>\n      <td>33341464</td>\n      <td>35651584</td>\n    </tr>\n    <tr>\n      <th>1668180</th>\n      <td>16819027</td>\n      <td>2023-07-04</td>\n      <td>33341464</td>\n      <td>35651584</td>\n    </tr>\n    <tr>\n      <th>1668181</th>\n      <td>16819028</td>\n      <td>2023-07-04</td>\n      <td>32968344</td>\n      <td>2097152</td>\n    </tr>\n  </tbody>\n</table>\n<p>1668182 rows × 4 columns</p>\n</div>"
     },
     "execution_count": 29,
     "metadata": {},
     "output_type": "execute_result"
    }
   ],
   "source": [
    "features = df.groupby(['MachineID', 'RWB_EFFECTIVE_DATE']).agg(\n",
    "    {\n",
    "        'TotalPhysicalMemory00':'max',\n",
    "        'TotalPageFileSpace00':'max'\n",
    "    }\n",
    ").reset_index().rename(columns={'TotalPhysicalMemory00':'Total RAM', 'TotalPageFileSpace00':'Total Page File Space'})\n",
    "features"
   ],
   "metadata": {
    "collapsed": false,
    "ExecuteTime": {
     "end_time": "2023-08-06T17:11:46.732728020Z",
     "start_time": "2023-08-06T17:11:46.118703017Z"
    }
   }
  },
  {
   "cell_type": "code",
   "execution_count": 30,
   "outputs": [],
   "source": [
    "features.to_parquet('../do_not_commit/FeatureDatasets/pc_memory_data.pq')"
   ],
   "metadata": {
    "collapsed": false,
    "ExecuteTime": {
     "end_time": "2023-08-06T17:11:46.883179363Z",
     "start_time": "2023-08-06T17:11:46.734617385Z"
    }
   }
  }
 ],
 "metadata": {
  "kernelspec": {
   "display_name": "Python 3",
   "language": "python",
   "name": "python3"
  },
  "language_info": {
   "codemirror_mode": {
    "name": "ipython",
    "version": 2
   },
   "file_extension": ".py",
   "mimetype": "text/x-python",
   "name": "python",
   "nbconvert_exporter": "python",
   "pygments_lexer": "ipython2",
   "version": "2.7.6"
  }
 },
 "nbformat": 4,
 "nbformat_minor": 0
}
