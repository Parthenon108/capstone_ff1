{
 "cells": [
  {
   "cell_type": "code",
   "execution_count": 1,
   "metadata": {},
   "outputs": [],
   "source": [
    "import pandas as pd\n",
    "import dtale\n",
    "\n",
    "# Set the notebook to display all columns of a dataframe\n",
    "pd.set_option('display.max_columns', None)\n",
    "\n",
    "# Read in data \n",
    "comp_df = pd.read_parquet('assets/Persist_Computer_System_DATA.parquet')\n",
    "\n",
    "# Drop row version \n",
    "comp_df = comp_df.drop('rowversion', axis=1)\n",
    "\n",
    "# Optional, show results in dtale\n",
    "# dtale.show(comp_df).open_browser()"
   ]
  },
  {
   "cell_type": "code",
   "execution_count": 2,
   "metadata": {},
   "outputs": [],
   "source": [
    "def get_computer_group_data(in_df):\n",
    "\n",
    "    # Define a dictionary for the output data\n",
    "    out_dict = {}\n",
    "\n",
    "    # Get the machine model\n",
    "    models = list(in_df['Model00'].unique())\n",
    "    if len(models) > 1:\n",
    "        models.remove('Unidentified System')\n",
    "    out_dict['Model'] = models[0]\n",
    "\n",
    "    # Get the system type \n",
    "    out_dict['system_type'] = in_df['SystemType00'].iloc[0]\n",
    "\n",
    "    # Get the output data in a series\n",
    "    out_series = pd.Series(out_dict, index=list(out_dict.keys()))\n",
    "\n",
    "    return out_series\n",
    "\n",
    "def get_computer_system_features(in_dat):\n",
    "\n",
    "    # Get the output by grouping in Machine ID\n",
    "    out_dat = in_dat.groupby('MachineID').apply(get_computer_group_data)\n",
    "    out_dat = out_dat.reset_index()\n",
    "\n",
    "    return out_dat\n",
    "\n",
    "grouped_df = get_computer_system_features(comp_df)\n",
    "grouped_df.to_parquet('assets/computer_system_features.parquet', index=False)"
   ]
  }
 ],
 "metadata": {
  "kernelspec": {
   "display_name": "Python 3",
   "language": "python",
   "name": "python3"
  },
  "language_info": {
   "codemirror_mode": {
    "name": "ipython",
    "version": 3
   },
   "file_extension": ".py",
   "mimetype": "text/x-python",
   "name": "python",
   "nbconvert_exporter": "python",
   "pygments_lexer": "ipython3",
   "version": "3.11.3"
  },
  "orig_nbformat": 4
 },
 "nbformat": 4,
 "nbformat_minor": 2
}
