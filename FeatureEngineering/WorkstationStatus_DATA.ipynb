{
 "cells": [
  {
   "cell_type": "code",
   "execution_count": null,
   "metadata": {
    "collapsed": true
   },
   "outputs": [],
   "source": [
    "import pandas as pd"
   ]
  },
  {
   "cell_type": "code",
   "execution_count": null,
   "outputs": [],
   "source": [
    "df = pd.read_parquet('../do_not_commit/Datasets/Persist_WorkstationStatus_Data.pq')"
   ],
   "metadata": {
    "collapsed": false
   }
  },
  {
   "cell_type": "markdown",
   "source": [
    "\n",
    "# last_hw_scan_datetime\n"
   ],
   "metadata": {
    "collapsed": false
   }
  },
  {
   "cell_type": "code",
   "execution_count": null,
   "outputs": [],
   "source": [
    "# Datetime of the last hardware scan. Grab this from LastHWScan from WorkstationStatus_Data.\n",
    "last_time = df.groupby(['MachineID', 'RWB_EFFECTIVE_DATE']).agg({'LastHWScan':'min'}).reset_index()\n",
    "last_time"
   ],
   "metadata": {
    "collapsed": false
   }
  },
  {
   "cell_type": "markdown",
   "source": [
    "\n",
    "# last_hw_scan_age\n"
   ],
   "metadata": {
    "collapsed": false
   }
  },
  {
   "cell_type": "code",
   "execution_count": null,
   "outputs": [],
   "source": [
    "# Age in days of the last hardware scan. Calculate this from LastHWScan from WorkstationStatus_Data."
   ],
   "metadata": {
    "collapsed": false
   }
  },
  {
   "cell_type": "code",
   "execution_count": null,
   "outputs": [],
   "source": [
    "last_hw_scan_days = df.groupby(['MachineID', 'RWB_EFFECTIVE_DATE'])['LastHWScan'].agg('min').reset_index()"
   ],
   "metadata": {
    "collapsed": false
   }
  },
  {
   "cell_type": "code",
   "execution_count": null,
   "outputs": [],
   "source": [
    "last_hw_scan_days['RWB_EFFECTIVE_DATE'] = pd.to_datetime(last_hw_scan_days['RWB_EFFECTIVE_DATE']).dt.date\n",
    "last_hw_scan_days['LastHWScan'] = pd.to_datetime(last_hw_scan_days['LastHWScan'])"
   ],
   "metadata": {
    "collapsed": false
   }
  },
  {
   "cell_type": "code",
   "execution_count": null,
   "outputs": [],
   "source": [
    "last_hw_scan_days['LastHWScan_Date'] = last_hw_scan_days['LastHWScan'].apply(lambda x: x.date())\n",
    "last_hw_scan_days['LastHWScan_Days'] = last_hw_scan_days['RWB_EFFECTIVE_DATE'] - last_hw_scan_days['LastHWScan_Date']"
   ],
   "metadata": {
    "collapsed": false
   }
  },
  {
   "cell_type": "code",
   "execution_count": null,
   "outputs": [],
   "source": [
    "last_hw_scan_days['LastHWScan_Days'] = last_hw_scan_days['LastHWScan_Days'].apply(lambda x: x.days)\n",
    "last_hw_scan_days"
   ],
   "metadata": {
    "collapsed": false
   }
  },
  {
   "cell_type": "code",
   "execution_count": null,
   "outputs": [],
   "source": [
    "last_time['RWB_EFFECTIVE_DATE'] = last_time['RWB_EFFECTIVE_DATE'].astype('str')\n",
    "last_hw_scan_days['RWB_EFFECTIVE_DATE'] = last_hw_scan_days['RWB_EFFECTIVE_DATE'].astype('str')"
   ],
   "metadata": {
    "collapsed": false
   }
  },
  {
   "cell_type": "code",
   "execution_count": null,
   "outputs": [],
   "source": [
    "combined = last_time.merge(last_hw_scan_days[['MachineID', 'RWB_EFFECTIVE_DATE', 'LastHWScan_Days']], on=['MachineID', 'RWB_EFFECTIVE_DATE'])\n",
    "combined"
   ],
   "metadata": {
    "collapsed": false
   }
  },
  {
   "cell_type": "code",
   "execution_count": null,
   "outputs": [],
   "source": [
    "combined.to_parquet('../do_not_commit/FeatureDatasets/workstationstatus_features.pq')"
   ],
   "metadata": {
    "collapsed": false
   }
  }
 ],
 "metadata": {
  "kernelspec": {
   "display_name": "Python 3",
   "language": "python",
   "name": "python3"
  },
  "language_info": {
   "codemirror_mode": {
    "name": "ipython",
    "version": 2
   },
   "file_extension": ".py",
   "mimetype": "text/x-python",
   "name": "python",
   "nbconvert_exporter": "python",
   "pygments_lexer": "ipython2",
   "version": "2.7.6"
  }
 },
 "nbformat": 4,
 "nbformat_minor": 0
}
