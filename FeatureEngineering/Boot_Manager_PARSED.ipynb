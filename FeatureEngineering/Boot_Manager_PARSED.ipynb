{
 "cells": [
  {
   "cell_type": "code",
   "execution_count": 4,
   "metadata": {
    "collapsed": true,
    "ExecuteTime": {
     "end_time": "2023-08-02T23:25:18.011020327Z",
     "start_time": "2023-08-02T23:25:17.990984360Z"
    }
   },
   "outputs": [],
   "source": [
    "import pandas as pd"
   ]
  },
  {
   "cell_type": "code",
   "execution_count": 5,
   "outputs": [],
   "source": [
    "df = pd.read_parquet('../do_not_commit/Datasets/Boot_Events_PARSED.parquet')"
   ],
   "metadata": {
    "collapsed": false,
    "ExecuteTime": {
     "end_time": "2023-08-02T23:25:19.108049490Z",
     "start_time": "2023-08-02T23:25:18.005449130Z"
    }
   }
  },
  {
   "cell_type": "markdown",
   "source": [
    "\n",
    "# Average Boot Time.\n"
   ],
   "metadata": {
    "collapsed": false
   }
  },
  {
   "cell_type": "code",
   "execution_count": null,
   "outputs": [],
   "source": [
    "# For each machine on a given day, calculate the average boot time\n",
    "# in milliseconds using the 'TotalBootDurationInMilliseconds' field.\n",
    "\n",
    "# 'AppVersion' appears to actually be machine name.\n",
    "average_boot_time = df.groupby(['RWB_EFFECTIVE_DATE', 'ClientItemKey'])['TotalBootDurationInMilliseconds'].agg('mean').round().reset_index()\n",
    "average_boot_time"
   ],
   "metadata": {
    "collapsed": false
   }
  },
  {
   "cell_type": "code",
   "execution_count": 8,
   "outputs": [],
   "source": [
    "average_boot_time.to_parquet('../do_not_commit/FeatureDatasets/boot_events_parsed_features.pq')"
   ],
   "metadata": {
    "collapsed": false,
    "ExecuteTime": {
     "end_time": "2023-08-02T23:25:19.960906710Z",
     "start_time": "2023-08-02T23:25:19.889558738Z"
    }
   }
  }
 ],
 "metadata": {
  "kernelspec": {
   "display_name": "Python 3",
   "language": "python",
   "name": "python3"
  },
  "language_info": {
   "codemirror_mode": {
    "name": "ipython",
    "version": 2
   },
   "file_extension": ".py",
   "mimetype": "text/x-python",
   "name": "python",
   "nbconvert_exporter": "python",
   "pygments_lexer": "ipython2",
   "version": "2.7.6"
  }
 },
 "nbformat": 4,
 "nbformat_minor": 0
}
