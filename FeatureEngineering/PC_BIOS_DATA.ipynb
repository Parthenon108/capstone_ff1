{
 "cells": [
  {
   "cell_type": "code",
   "execution_count": 7,
   "metadata": {
    "collapsed": true,
    "ExecuteTime": {
     "end_time": "2023-08-06T17:22:44.614907123Z",
     "start_time": "2023-08-06T17:22:44.410956546Z"
    }
   },
   "outputs": [],
   "source": [
    "import pandas as pd\n",
    "from datetime import datetime\n",
    "from datetime import date\n",
    "import numpy as np"
   ]
  },
  {
   "cell_type": "code",
   "execution_count": 8,
   "outputs": [],
   "source": [
    "df = pd.read_parquet('../do_not_commit/Datasets/Persist_PC_BIOS_DATA.pq')"
   ],
   "metadata": {
    "collapsed": false,
    "ExecuteTime": {
     "end_time": "2023-08-06T17:22:44.827213477Z",
     "start_time": "2023-08-06T17:22:44.436832279Z"
    }
   }
  },
  {
   "cell_type": "markdown",
   "source": [
    "\n",
    "# bios_release_date_age\n"
   ],
   "metadata": {
    "collapsed": false
   }
  },
  {
   "cell_type": "code",
   "execution_count": null,
   "outputs": [],
   "source": [
    "# Number of days since the BIOS version was released.\n",
    "# Calculate this from the 'ReleaseDate00'.\n",
    "# Take the .max() 'ReleaseDate00' to account for duplicate records for machineID 1681622.\n",
    "bios_release_date = df.groupby(['MachineID', 'RWB_EFFECTIVE_DATE'])['ReleaseDate00'].agg('max').reset_index().rename(columns={'ReleaseDate00':'BIOS Release Date'})\n",
    "bios_release_date"
   ],
   "metadata": {
    "collapsed": false
   }
  },
  {
   "cell_type": "code",
   "execution_count": 11,
   "outputs": [],
   "source": [
    "def calculate_age_in_days(target_date_str, in_date):\n",
    "\n",
    "    # Convert target_date_str to a Python datetime object\n",
    "    target_date = datetime.strptime(target_date_str, '%Y-%m-%d').date()\n",
    "\n",
    "    # Calculate the age in days\n",
    "    age_in_days = (in_date - target_date).days\n",
    "\n",
    "    return age_in_days\n",
    "\n",
    "\n",
    "def create_bios_features(in_df):\n",
    "\n",
    "    # Change effective date to type date\n",
    "    in_df['BIOS Release Date'] = pd.to_datetime(in_df['BIOS Release Date']).dt.strftime('%Y-%m-%d')\n",
    "\n",
    "    # Get age in days\n",
    "    todaydate = date(2023, 7, 4)\n",
    "    in_df['BIOSReleaseAge'] = in_df['BIOS Release Date'].apply(lambda x: calculate_age_in_days(x, todaydate)\n",
    "    if pd.notnull(x) else np.nan)\n",
    "    return in_df"
   ],
   "metadata": {
    "collapsed": false,
    "ExecuteTime": {
     "end_time": "2023-08-06T17:23:54.274166033Z",
     "start_time": "2023-08-06T17:23:54.192071015Z"
    }
   }
  },
  {
   "cell_type": "code",
   "execution_count": 12,
   "outputs": [],
   "source": [
    "df = create_bios_features(bios_release_date)"
   ],
   "metadata": {
    "collapsed": false,
    "ExecuteTime": {
     "end_time": "2023-08-06T17:24:03.776873682Z",
     "start_time": "2023-08-06T17:23:54.236855678Z"
    }
   }
  },
  {
   "cell_type": "code",
   "execution_count": 14,
   "outputs": [],
   "source": [
    "df.to_parquet('../do_not_commit/FeatureDatasets/pc_bios_data.pq')"
   ],
   "metadata": {
    "collapsed": false,
    "ExecuteTime": {
     "end_time": "2023-08-06T17:24:04.022076800Z",
     "start_time": "2023-08-06T17:24:03.818856061Z"
    }
   }
  }
 ],
 "metadata": {
  "kernelspec": {
   "display_name": "Python 3",
   "language": "python",
   "name": "python3"
  },
  "language_info": {
   "codemirror_mode": {
    "name": "ipython",
    "version": 2
   },
   "file_extension": ".py",
   "mimetype": "text/x-python",
   "name": "python",
   "nbconvert_exporter": "python",
   "pygments_lexer": "ipython2",
   "version": "2.7.6"
  }
 },
 "nbformat": 4,
 "nbformat_minor": 0
}
