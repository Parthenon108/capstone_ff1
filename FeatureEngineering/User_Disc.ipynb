{
 "cells": [
  {
   "cell_type": "code",
   "execution_count": 2,
   "metadata": {},
   "outputs": [],
   "source": [
    "import pandas as pd\n",
    "import os\n",
    "\n",
    "# Set the notebook to display all columns of a dataframe\n",
    "pd.set_option('display.max_columns', None)\n",
    "\n",
    "def read_data_files(addin_data_directory):\n",
    "\n",
    "    # Get the files in the directory\n",
    "    files = os.listdir(addin_data_directory)\n",
    "\n",
    "    out_df = pd.DataFrame()\n",
    "\n",
    "    for file in files:\n",
    "        if file.endswith('.parquet'):\n",
    "\n",
    "            filepath = os.path.join(addin_data_directory, file)\n",
    "            \n",
    "            # Read in the parquet file\n",
    "            chunk = pd.read_parquet(filepath, engine='pyarrow')\n",
    "\n",
    "            # Drop row version \n",
    "            chunk = chunk.drop('rowversion', axis=1)\n",
    "\n",
    "            # Append result to output\n",
    "            out_df = pd.concat([out_df, chunk], axis=0)\n",
    "    \n",
    "    return out_df\n",
    "\n",
    "# Read in userdisc and user profile data \n",
    "u_disc = pd.read_parquet('assets/Persist_USER_DISC.parquet')\n",
    "u_profile = read_data_files('assets/user_profile_data')"
   ]
  },
  {
   "cell_type": "code",
   "execution_count": 7,
   "metadata": {},
   "outputs": [],
   "source": [
    "def get_machine_login_features():\n",
    "\n",
    "    # Inner join user disc and user profile\n",
    "    user_df = pd.merge(u_disc, u_profile, how='inner', left_on = ['SID0', 'RWB_EFFECTIVE_DATE'], \n",
    "                       right_on=['SID00', 'RWB_EFFECTIVE_DATE'])\n",
    "    \n",
    "    # Function to use in the group by\n",
    "    get_unique_count = lambda x: pd.Series({\"num_users\": len(x['User_Name0'].unique())}, index=['num_users'])\n",
    "\n",
    "    # Get username cound \n",
    "    out_gb = user_df.groupby(['MachineID', 'RWB_EFFECTIVE_DATE']).apply(get_unique_count)\n",
    "    out_gb = out_gb.reset_index()\n",
    "\n",
    "    return out_gb \n",
    "\n",
    "out = get_machine_login_features()\n",
    "out.to_parquet('assets/user_count_feature.parquet', index=False)"
   ]
  }
 ],
 "metadata": {
  "kernelspec": {
   "display_name": "Python 3",
   "language": "python",
   "name": "python3"
  },
  "language_info": {
   "codemirror_mode": {
    "name": "ipython",
    "version": 3
   },
   "file_extension": ".py",
   "mimetype": "text/x-python",
   "name": "python",
   "nbconvert_exporter": "python",
   "pygments_lexer": "ipython3",
   "version": "3.11.3"
  },
  "orig_nbformat": 4
 },
 "nbformat": 4,
 "nbformat_minor": 2
}
