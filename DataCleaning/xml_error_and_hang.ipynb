{
 "cells": [
  {
   "cell_type": "code",
   "execution_count": 11,
   "metadata": {
    "collapsed": true,
    "ExecuteTime": {
     "end_time": "2023-07-17T16:02:11.806249631Z",
     "start_time": "2023-07-17T16:02:11.799641451Z"
    }
   },
   "outputs": [],
   "source": [
    "import pandas as pd\n",
    "import html\n",
    "import xml.etree.ElementTree as ET"
   ]
  },
  {
   "cell_type": "code",
   "execution_count": 33,
   "outputs": [],
   "source": [
    "df_error = pd.read_excel('../do_not_commit/Events/ApplicationEvents.xlsx', sheet_name='ApplicationError')\n",
    "df_hang = pd.read_excel('../do_not_commit/Events/ApplicationEvents.xlsx', sheet_name='ApplicationHang')\n",
    "df = pd.concat([df_error, df_hang]).reset_index()"
   ],
   "metadata": {
    "collapsed": false,
    "ExecuteTime": {
     "end_time": "2023-07-17T16:11:33.080834550Z",
     "start_time": "2023-07-17T16:11:32.957761500Z"
    }
   }
  },
  {
   "cell_type": "code",
   "execution_count": 102,
   "outputs": [],
   "source": [
    "def xml_to_col(xml_str, provider_name):\n",
    "\n",
    "    # Extract CDATA section\n",
    "    data_string = xml_str\n",
    "    unescaped_string = html.unescape(data_string)\n",
    "\n",
    "    # Extract CDATA section\n",
    "    start = unescaped_string.find('<![CDATA[') + len('<![CDATA[')\n",
    "    end = unescaped_string.find(']]>')\n",
    "    cdata = unescaped_string[start:end]\n",
    "\n",
    "    # Wrap the CDATA content with a root element\n",
    "    wrapped_cdata = '<root>' + cdata + '</root>'\n",
    "    wrapped_cdata\n",
    "\n",
    "    # Parse the wrapped CDATA as XML\n",
    "    root = ET.fromstring(wrapped_cdata)\n",
    "    root[0][-1].text\n",
    "\n",
    "    if provider_name == 'error':\n",
    "        row_dict = {\n",
    "            'FaultingApplicationName':'',\n",
    "            'AppVersion': '',\n",
    "            'AppTimestamp': '',\n",
    "            'FaultingModuleName': '',\n",
    "            'ModuleVersion': '',\n",
    "            'ModuleTimestamp': '',\n",
    "            'ExceptionCode': '',\n",
    "            'FaultOffset': '',\n",
    "            'FaultingProcessId': '',\n",
    "            'FaultingApplicationStartTime': '',\n",
    "            'FaultingApplicationPath': '',\n",
    "            'FaultingApplicationModulePath': '',\n",
    "            'ReportId': '',\n",
    "            'FaultingPackageFullName': '',\n",
    "            'FaultingPackageRelativeApplicationID': '',\n",
    "            'FullPath': '',\n",
    "            'ProductVersion': '',\n",
    "            'ProductName': '',\n",
    "            'Publisher': '',\n",
    "            'ProgramId': '',\n",
    "            'FileId': '',\n",
    "            'FileVersion': ''\n",
    "        }\n",
    "    elif provider_name == 'hang':\n",
    "        row_dict = {\n",
    "            'Program':'',\n",
    "            'ProgramVersion': '',\n",
    "            'ProcessID': '',\n",
    "            'StartTime': '',\n",
    "            'TerminationType': '',\n",
    "            'ApplicationPath': '',\n",
    "            'ReportID': '',\n",
    "            'FaultingPackageFullName': '',\n",
    "            'FaultingPackageRelativeApplicationID': '',\n",
    "            'HangType': '',\n",
    "            'BinaryValue': '',\n",
    "            'FullPath': '',\n",
    "            'ProductVersion': '',\n",
    "            'ProductName': '',\n",
    "            'Publisher': '',\n",
    "            'ProgramId': '',\n",
    "            'FileId': '',\n",
    "            'FileVersion': '',\n",
    "        }\n",
    "    elif provider_name == 'windows':\n",
    "        row_dict = {\n",
    "            \"Data_1\": '',\n",
    "            \"FaultBucketType\": '',\n",
    "            \"EventName\": '',\n",
    "            \"Response\": '',\n",
    "            \"CabID\": '',\n",
    "            \"ProblemSignatureP1_Application\": '',\n",
    "            \"ProblemSignatureP2_AppVersion\": '',\n",
    "            \"ProblemSignatureP3\": '',\n",
    "            \"ProblemSignatureP4_Module\": '',\n",
    "            \"ProblemSignatureP5_ModuleVersion\": '',\n",
    "            \"ProblemSignatureP6\": '',\n",
    "            \"ProblemSignatureP7_ExceptionCode\": '',\n",
    "            \"ProblemSignatureP8\": '',\n",
    "            \"ProblemSignatureP9\": '',\n",
    "            \"ProblemSignatureP10\": '',\n",
    "            \"AttachedFiles\": '',\n",
    "            \"AttachedFilesPath\": '',\n",
    "            \"AnalysisSymbol\": '',\n",
    "            \"RecheckingForSolution\": '',\n",
    "            \"ReportID\": '',\n",
    "            \"HashedBucket\": '',\n",
    "            \"CabGuid\": ''\n",
    "        }\n",
    "    elif provider_name == 'boot':\n",
    "        row_dict = {\n",
    "            \"SystemPowerOffTime\": '',\n",
    "            \"MachineName\": '',\n",
    "            \"AppVersion\": '',\n",
    "            \"Reason\": '',\n",
    "            \"ExceptionCode\": '',\n",
    "            \"ActionDescription\": '',\n",
    "            \"SystemPath\": '',\n",
    "            \"FullPath\": '',\n",
    "            \"ProductVersion\": '',\n",
    "            \"ProductName\": '',\n",
    "            \"Publisher\": '',\n",
    "            \"ProgramId\": '',\n",
    "            \"FileId\": '',\n",
    "            \"FileVersion\": '',\n",
    "        }\n",
    "\n",
    "    if provider_name in ['error', 'hang']:\n",
    "        for i in range(len(root[0])):\n",
    "            row_dict[list(row_dict.items())[i][0]] = root[0][i].text\n",
    "        for i in range(len(root[1])):\n",
    "            if i < 7:\n",
    "                row_dict[list(row_dict.items())[int(i + len(root[0]))][0]] = root[1][i].text\n",
    "    elif provider_name in ['windows', 'boot']:\n",
    "        for i in range(len(root[0])):\n",
    "            row_dict[list(row_dict.items())[i][0]] = root[0][i].text\n",
    "    return row_dict"
   ],
   "metadata": {
    "collapsed": false,
    "ExecuteTime": {
     "end_time": "2023-07-17T16:36:49.427119095Z",
     "start_time": "2023-07-17T16:36:49.413647930Z"
    }
   }
  },
  {
   "cell_type": "code",
   "execution_count": null,
   "outputs": [],
   "source": [
    "# RJ 07/17/2023: There are 3 extra attributes in this particular XML:\n",
    "# FaultBucket, WatsonEventName, UserImpactVector.\n",
    "data_string = df.loc[98, 'EventDataXML']\n",
    "unescaped_string = html.unescape(data_string)\n",
    "\n",
    "# Extract CDATA section\n",
    "start = unescaped_string.find('<![CDATA[') + len('<![CDATA[')\n",
    "end = unescaped_string.find(']]>')\n",
    "cdata = unescaped_string[start:end]\n",
    "\n",
    "# Wrap the CDATA content with a root element\n",
    "wrapped_cdata = '<root>' + cdata + '</root>'\n",
    "wrapped_cdata\n",
    "\n",
    "# Parse the wrapped CDATA as XML\n",
    "root = ET.fromstring(wrapped_cdata)\n",
    "wrapped_cdata"
   ],
   "metadata": {
    "collapsed": false
   }
  }
 ],
 "metadata": {
  "kernelspec": {
   "display_name": "Python 3",
   "language": "python",
   "name": "python3"
  },
  "language_info": {
   "codemirror_mode": {
    "name": "ipython",
    "version": 2
   },
   "file_extension": ".py",
   "mimetype": "text/x-python",
   "name": "python",
   "nbconvert_exporter": "python",
   "pygments_lexer": "ipython2",
   "version": "2.7.6"
  }
 },
 "nbformat": 4,
 "nbformat_minor": 0
}
