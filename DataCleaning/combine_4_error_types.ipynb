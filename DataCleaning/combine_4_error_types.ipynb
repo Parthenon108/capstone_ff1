{
 "cells": [
  {
   "cell_type": "code",
   "execution_count": 1,
   "metadata": {
    "ExecuteTime": {
     "end_time": "2023-08-09T00:30:18.290617404Z",
     "start_time": "2023-08-09T00:30:17.900385328Z"
    },
    "collapsed": true
   },
   "outputs": [],
   "source": [
    "import pandas as pd\n",
    "import numpy as np\n",
    "from functools import reduce\n",
    "import pytz\n",
    "import missingno as msno\n",
    "import altair as alt"
   ]
  },
  {
   "cell_type": "markdown",
   "metadata": {
    "collapsed": false
   },
   "source": [
    "\n",
    "[Shift time for TimeCreatedSystemTime to UTC](#timeshift)\n",
    "[Join machines to events](#machines_events)\n"
   ]
  },
  {
   "cell_type": "code",
   "execution_count": 5,
   "metadata": {
    "ExecuteTime": {
     "end_time": "2023-08-09T00:30:19.196990305Z",
     "start_time": "2023-08-09T00:30:17.943128292Z"
    },
    "collapsed": false
   },
   "outputs": [],
   "source": [
    "# These are the datasets uploaded by Jacob to blob storage:\n",
    "df_app = pd.read_parquet('../do_not_commit/Datasets/AppErrorEvents.parquet')\n",
    "df_win = pd.read_parquet('../do_not_commit/Datasets/WindowsErrorEvents.parquet')\n",
    "df_hang = pd.read_parquet('../do_not_commit/Datasets/AppHangEvents.parquet')"
   ]
  },
  {
   "cell_type": "code",
   "execution_count": 6,
   "metadata": {
    "ExecuteTime": {
     "end_time": "2023-08-09T00:30:19.218516312Z",
     "start_time": "2023-08-09T00:30:18.277875685Z"
    },
    "collapsed": false
   },
   "outputs": [
    {
     "name": "stdout",
     "output_type": "stream",
     "text": [
      "268149\n",
      "9836\n",
      "40811\n"
     ]
    }
   ],
   "source": [
    "print(len(df_app))\n",
    "print(len(df_win))\n",
    "print(len(df_hang))"
   ]
  },
  {
   "cell_type": "code",
   "execution_count": 7,
   "metadata": {
    "ExecuteTime": {
     "end_time": "2023-08-09T00:30:19.218627438Z",
     "start_time": "2023-08-09T00:30:18.278073462Z"
    },
    "collapsed": false
   },
   "outputs": [],
   "source": [
    "df_app['error_type'] = \"Application\"\n",
    "df_win['error_type'] = 'Windows'\n",
    "df_hang['error_type'] = 'Hang'"
   ]
  },
  {
   "cell_type": "markdown",
   "metadata": {
    "collapsed": false
   },
   "source": [
    "\n",
    "Do this in one or two ways:\n",
    "1. Add use suffixes= in pd.merge() to explicitly assign each column/variable to its original error type.\n",
    "2. Combine values for common columns into the same column, add a new column for each of the 4 for its error type, e.g. \"Hang\", and not assign column suffixes (use pd.concat([dataframes])).\n",
    "\n",
    "Given from the original XML exercise columns with the same name in different sets represented the same variable, preferred approach is #2.\n"
   ]
  },
  {
   "cell_type": "code",
   "execution_count": 8,
   "metadata": {
    "ExecuteTime": {
     "end_time": "2023-08-09T00:30:19.218685575Z",
     "start_time": "2023-08-09T00:30:18.278199764Z"
    },
    "collapsed": false
   },
   "outputs": [],
   "source": [
    "def get_compare_chart(in_data, in_col, in_title):\n",
    "    \"\"\"\n",
    "    # Visualize codes by EventName in df_win['EventName'].\n",
    "\n",
    "    :param in_data:\n",
    "    :param in_col:\n",
    "    :param in_title:\n",
    "    :return:\n",
    "    \"\"\"\n",
    "\n",
    "    count_df2 = in_data.groupby(in_col).size().reset_index().rename(columns={0: 'count'})\n",
    "    # Sort order for chart\n",
    "    count_df2.sort_values('count', ascending=False, inplace=True)\n",
    "    sort_order = [val for val in count_df2[in_col].unique()]\n",
    "    out_chart = alt.Chart(count_df2).mark_bar().encode(\n",
    "        x=alt.X('count:Q'),\n",
    "        y=alt.Y(in_col + ':N', sort=sort_order),\n",
    "        tooltip='count:Q'\n",
    "    ).properties(title=in_title)\n",
    "    return out_chart\n",
    "\n",
    "\n",
    "def show_bar_for_win_event(eventname_list, in_df, visualize_attr):\n",
    "    for eventname in eventname_list:\n",
    "        current_df = in_df[in_df['EventName'] == eventname]\n",
    "        out_chart = get_compare_chart(current_df, visualize_attr,\n",
    "                                      f'Counts of {visualize_attr} types for {eventname} events')\n",
    "        yield out_chart"
   ]
  },
  {
   "cell_type": "code",
   "execution_count": 9,
   "metadata": {
    "ExecuteTime": {
     "end_time": "2023-08-09T00:30:19.218738464Z",
     "start_time": "2023-08-09T00:30:18.278346898Z"
    },
    "collapsed": false
   },
   "outputs": [],
   "source": [
    "# Get the event names\n",
    "eventnames = df_win['EventName'].unique()\n",
    "charts = show_bar_for_win_event(eventnames, df_win, 'ProblemSignatureP3')"
   ]
  },
  {
   "cell_type": "code",
   "execution_count": 10,
   "metadata": {
    "ExecuteTime": {
     "end_time": "2023-08-09T00:30:19.219090883Z",
     "start_time": "2023-08-09T00:30:18.321506617Z"
    },
    "collapsed": false
   },
   "outputs": [],
   "source": [
    "# current_chart = next(charts)\n",
    "# current_chart"
   ]
  },
  {
   "cell_type": "code",
   "execution_count": 11,
   "metadata": {
    "ExecuteTime": {
     "end_time": "2023-08-09T00:30:19.219259759Z",
     "start_time": "2023-08-09T00:30:18.321691800Z"
    },
    "collapsed": false
   },
   "outputs": [
    {
     "data": {
      "text/plain": [
       "array(['crashpad_exp', 'APPCRASH', 'AppHangB1', 'MoAppHang', 'BEX64',\n",
       "       'MoAppCrash', 'MoBEX', 'CLR20r3', 'BEX', 'AppHangXProcB1',\n",
       "       'LiveKernelEvent', 'MoAppHangXProc', 'POFContextAppCrash',\n",
       "       'ServiceHang', 'CbsPackageServicingFailure2',\n",
       "       'CriticalProcessFault2', 'crashpad_jserror', 'WUDFVerifierFailure'],\n",
       "      dtype=object)"
      ]
     },
     "execution_count": 11,
     "metadata": {},
     "output_type": "execute_result"
    }
   ],
   "source": [
    "eventnames"
   ]
  },
  {
   "cell_type": "code",
   "execution_count": 12,
   "metadata": {
    "ExecuteTime": {
     "end_time": "2023-08-09T00:30:19.219364400Z",
     "start_time": "2023-08-09T00:30:18.321817077Z"
    },
    "collapsed": false
   },
   "outputs": [
    {
     "name": "stdout",
     "output_type": "stream",
     "text": [
      "1569\n",
      "9836\n"
     ]
    }
   ],
   "source": [
    "print(df_win['ProblemSignatureP3'].str.contains('.dll').sum())\n",
    "print(len(df_win))"
   ]
  },
  {
   "cell_type": "markdown",
   "metadata": {
    "collapsed": false
   },
   "source": [
    "\n",
    "-  crashpad_exp has only .dll EventItems\n",
    "-  APPCRASH has 1 .dll and many alphanumeric codes\n",
    "-  AppHangB1 has only hexadecimal codes\n",
    "-  MoAppHang has IP-style codes\n",
    "-  BEX64 has only alphanumeric codes\n",
    "-  MoAppCrash has IP-style codes\n",
    "-  MoBEX has IP-style codes\n",
    "-  CLR20r3 has hexadecimal codes\n",
    "-  BEX has hexadecimal codes\n",
    "-  AppHangXProcB1 has hexadecimal codes\n",
    "-  LiveKernelEvent has single numbers, single letters, and (many) alphanumeric codes\n",
    "-  MoAppHangXProc events has 2 IP-style codes\n",
    "-  POFContextAppCrash has IP-style codes\n",
    "-  ServiceHang has IP-style codes\n",
    "-  CbsPackageServicingFailure2 has IP-style codes\n",
    "-  CriticalProcessFault2 has 1 alphanumeric code and 1 00000000 code\n",
    "-  crashpad_jserror has webui-pdf code\n",
    "-  WUDFVerifierFailure has 'Driver 'code\n"
   ]
  },
  {
   "cell_type": "code",
   "execution_count": 13,
   "metadata": {
    "ExecuteTime": {
     "end_time": "2023-08-09T00:30:19.219422744Z",
     "start_time": "2023-08-09T00:30:18.321952043Z"
    },
    "collapsed": false
   },
   "outputs": [],
   "source": [
    "# COALESCE() in order: https://www.statology.org/pandas-coalesce/\n",
    "df_win['Combined_dll'] = df_win[['ProblemSignatureP3', 'ProblemSignatureP6']].bfill(axis=1).iloc[:, 0]\n",
    "df_win['Combined_dll'] = df_win['Combined_dll'].apply(lambda x: x if '.dll' in str(x) else np.nan)\n",
    "df_win.drop(columns=['ProblemSignatureP3', 'ProblemSignatureP6'], inplace=True)"
   ]
  },
  {
   "cell_type": "code",
   "execution_count": 14,
   "metadata": {
    "ExecuteTime": {
     "end_time": "2023-08-09T00:30:19.219473459Z",
     "start_time": "2023-08-09T00:30:18.322072647Z"
    },
    "collapsed": false
   },
   "outputs": [],
   "source": [
    "df_app.rename(\n",
    "    columns={\n",
    "        'FaultingApplicationName':'Combined_Application',\n",
    "        'ProgramId':'ProgramID',\n",
    "        'FileId':'FileID',\n",
    "        'AppVersion':'Combined_Version',\n",
    "        'ExceptionCode':'Combined_Exception',\n",
    "        'FaultingProcessId':'Combined_ProcessID',\n",
    "        'ReportId':'Combined_ReportID',\n",
    "        'FaultingApplicationStartTime':'Combined_StartTime',\n",
    "        'FaultingModuleName':'Combined_dll'\n",
    "    },\n",
    "    inplace=True\n",
    ")\n",
    "\n",
    "df_win.rename(\n",
    "    columns={\n",
    "        'ProblemSignatureP1_Application':'Combined_Application',\n",
    "        'ProblemSignatureP2_AppVersion':'Combined_Version',\n",
    "        'ProblemSignatureP7_ExceptionCode':'Combined_Exception',\n",
    "        'ReportID':'Combined_ReportID',\n",
    "        'CabGuid':'CabGUID'\n",
    "    },\n",
    "    inplace=True\n",
    ")\n",
    "\n",
    "df_hang.rename(\n",
    "    columns={\n",
    "        'ProgramId':'ProgramID',\n",
    "        'FileId':'FileID',\n",
    "        'Program':'Combined_Application',\n",
    "        'ProgramVersion':'Combined_Version',\n",
    "        'ProcessID':'Combined_ProcessID',\n",
    "        'ReportID':'Combined_ReportID',\n",
    "        'StartTime':'Combined_StartTime'\n",
    "    },\n",
    "    inplace=True\n",
    ")"
   ]
  },
  {
   "cell_type": "code",
   "execution_count": 15,
   "metadata": {
    "ExecuteTime": {
     "end_time": "2023-08-09T00:30:19.887027223Z",
     "start_time": "2023-08-09T00:30:18.322182931Z"
    },
    "collapsed": false
   },
   "outputs": [],
   "source": [
    "events = pd.concat([df_app, df_win, df_hang])\n",
    "events.reset_index(inplace=True)\n",
    "events.dropna(axis=1, how='all', inplace=True) # Dropping columns with nothing in them.\n",
    "# msno.matrix(events.iloc[:, 20:], labels=True, fontsize=8)"
   ]
  },
  {
   "cell_type": "code",
   "execution_count": 16,
   "metadata": {
    "ExecuteTime": {
     "end_time": "2023-08-09T00:30:19.893029392Z",
     "start_time": "2023-08-09T00:30:19.887528045Z"
    },
    "collapsed": false
   },
   "outputs": [
    {
     "data": {
      "text/plain": [
       "318796"
      ]
     },
     "execution_count": 16,
     "metadata": {},
     "output_type": "execute_result"
    }
   ],
   "source": [
    "len(events)"
   ]
  },
  {
   "cell_type": "markdown",
   "metadata": {
    "collapsed": false
   },
   "source": [
    "\n",
    "<a id=\"machines_events\"></a>\n",
    "# Join events with machines.\n"
   ]
  },
  {
   "cell_type": "code",
   "execution_count": 20,
   "metadata": {
    "ExecuteTime": {
     "end_time": "2023-08-09T00:30:22.654923452Z",
     "start_time": "2023-08-09T00:30:19.890734032Z"
    },
    "collapsed": false
   },
   "outputs": [],
   "source": [
    "machines = pd.read_parquet('../do_not_commit/Datasets/Persist_System_DISC.pq')"
   ]
  },
  {
   "cell_type": "code",
   "execution_count": 21,
   "metadata": {
    "ExecuteTime": {
     "end_time": "2023-08-09T00:30:22.660182678Z",
     "start_time": "2023-08-09T00:30:22.654534508Z"
    },
    "collapsed": false
   },
   "outputs": [],
   "source": [
    "# msno.matrix(incs, labels=True, fontsize=8)"
   ]
  },
  {
   "cell_type": "code",
   "execution_count": 22,
   "metadata": {
    "ExecuteTime": {
     "end_time": "2023-08-09T00:30:22.665617469Z",
     "start_time": "2023-08-09T00:30:22.655905967Z"
    },
    "collapsed": false
   },
   "outputs": [],
   "source": [
    "machines['ClientItemKey'] = machines['ItemKey'].copy()"
   ]
  },
  {
   "cell_type": "code",
   "execution_count": 23,
   "metadata": {
    "ExecuteTime": {
     "end_time": "2023-08-09T00:30:23.228263936Z",
     "start_time": "2023-08-09T00:30:22.662578443Z"
    },
    "collapsed": false
   },
   "outputs": [],
   "source": [
    "# Join machine name ('Name0') to events by internal date and ClientItemKey (a different, but similar ID for a machine).\n",
    "# Because events is left, every row will have a TimeCreatedSystemTime.\n",
    "machines_events = events.merge(machines[['RWB_EFFECTIVE_DATE', 'ClientItemKey', 'Name0']], on=['RWB_EFFECTIVE_DATE', 'ClientItemKey'], how='left')"
   ]
  },
  {
   "cell_type": "code",
   "execution_count": 24,
   "metadata": {
    "ExecuteTime": {
     "end_time": "2023-08-09T00:30:24.331613979Z",
     "start_time": "2023-08-09T00:30:23.229603281Z"
    },
    "collapsed": false
   },
   "outputs": [],
   "source": [
    "# Convert the TimeCreatedSystemTime CST column from Datetime to a date datatype (formatted like YYYY-MM-DD).\n",
    "machines_events['TimeCreatedSystemTimeFormatted'] = machines_events['TimeCreatedSystemTime'].dt.strftime('%Y-%m-%d')"
   ]
  },
  {
   "cell_type": "code",
   "execution_count": 25,
   "metadata": {
    "ExecuteTime": {
     "end_time": "2023-08-09T00:30:24.336772224Z",
     "start_time": "2023-08-09T00:30:24.332740765Z"
    },
    "collapsed": false
   },
   "outputs": [],
   "source": [
    "# msno.matrix(machines_events, labels=True, fontsize=8)"
   ]
  },
  {
   "cell_type": "code",
   "execution_count": 26,
   "metadata": {
    "ExecuteTime": {
     "end_time": "2023-08-09T00:30:24.341625992Z",
     "start_time": "2023-08-09T00:30:24.335469207Z"
    },
    "collapsed": false
   },
   "outputs": [],
   "source": [
    "# Convert local time values to Central.\n",
    "def convert_to_cst(df:pd.DataFrame, utc_column_name:str, cst_column_name:str):\n",
    "    \"\"\"\n",
    "    Create a new column in the events dataframe that converts the TimeCreatedSystemTime from UTC to CST.\n",
    "    (this is necessary because RWB_EFFECTIVE_DATE is in CST)\n",
    "    \"\"\"\n",
    "\n",
    "    # Make sure the UTC column is in datetime format\n",
    "    df[utc_column_name] = pd.to_datetime(df[utc_column_name])\n",
    "\n",
    "    # Convert to UTC timezone\n",
    "    utc_timezone = pytz.timezone('UTC')\n",
    "    df[utc_column_name] = df[utc_column_name].dt.tz_localize(utc_timezone)\n",
    "\n",
    "    # Convert to Central Standard Time (CST) timezone\n",
    "    cst_timezone = pytz.timezone('America/Chicago')\n",
    "    df[cst_column_name] = df[utc_column_name].dt.tz_convert(cst_timezone)\n",
    "\n",
    "    # Drop the original UTC column if desired (optional)\n",
    "    # df.drop(columns=[utc_column_name], inplace=True)\n",
    "\n",
    "    return df"
   ]
  },
  {
   "cell_type": "code",
   "execution_count": 27,
   "metadata": {
    "ExecuteTime": {
     "end_time": "2023-08-09T00:30:24.548965129Z",
     "start_time": "2023-08-09T00:30:24.338505882Z"
    },
    "collapsed": false
   },
   "outputs": [
    {
     "data": {
      "text/html": [
       "<div>\n",
       "<style scoped>\n",
       "    .dataframe tbody tr th:only-of-type {\n",
       "        vertical-align: middle;\n",
       "    }\n",
       "\n",
       "    .dataframe tbody tr th {\n",
       "        vertical-align: top;\n",
       "    }\n",
       "\n",
       "    .dataframe thead th {\n",
       "        text-align: right;\n",
       "    }\n",
       "</style>\n",
       "<table border=\"1\" class=\"dataframe\">\n",
       "  <thead>\n",
       "    <tr style=\"text-align: right;\">\n",
       "      <th></th>\n",
       "      <th>TimeCreatedSystemTime</th>\n",
       "      <th>CreatedSystemTime_CST</th>\n",
       "    </tr>\n",
       "  </thead>\n",
       "  <tbody>\n",
       "    <tr>\n",
       "      <th>224354</th>\n",
       "      <td>2023-05-15 16:00:09.427000+00:00</td>\n",
       "      <td>2023-05-15 11:00:09.427000-05:00</td>\n",
       "    </tr>\n",
       "    <tr>\n",
       "      <th>189817</th>\n",
       "      <td>2023-06-08 05:03:26.490000+00:00</td>\n",
       "      <td>2023-06-08 00:03:26.490000-05:00</td>\n",
       "    </tr>\n",
       "    <tr>\n",
       "      <th>272410</th>\n",
       "      <td>2023-02-01 20:42:50.530000+00:00</td>\n",
       "      <td>2023-02-01 14:42:50.530000-06:00</td>\n",
       "    </tr>\n",
       "    <tr>\n",
       "      <th>153413</th>\n",
       "      <td>2023-01-03 13:30:36.237000+00:00</td>\n",
       "      <td>2023-01-03 07:30:36.237000-06:00</td>\n",
       "    </tr>\n",
       "    <tr>\n",
       "      <th>193135</th>\n",
       "      <td>2023-06-05 12:43:13.227000+00:00</td>\n",
       "      <td>2023-06-05 07:43:13.227000-05:00</td>\n",
       "    </tr>\n",
       "  </tbody>\n",
       "</table>\n",
       "</div>"
      ],
      "text/plain": [
       "                  TimeCreatedSystemTime            CreatedSystemTime_CST\n",
       "224354 2023-05-15 16:00:09.427000+00:00 2023-05-15 11:00:09.427000-05:00\n",
       "189817 2023-06-08 05:03:26.490000+00:00 2023-06-08 00:03:26.490000-05:00\n",
       "272410 2023-02-01 20:42:50.530000+00:00 2023-02-01 14:42:50.530000-06:00\n",
       "153413 2023-01-03 13:30:36.237000+00:00 2023-01-03 07:30:36.237000-06:00\n",
       "193135 2023-06-05 12:43:13.227000+00:00 2023-06-05 07:43:13.227000-05:00"
      ]
     },
     "execution_count": 27,
     "metadata": {},
     "output_type": "execute_result"
    }
   ],
   "source": [
    "machines_events = convert_to_cst(machines_events, utc_column_name='TimeCreatedSystemTime', cst_column_name='CreatedSystemTime_CST')\n",
    "machines_events[['TimeCreatedSystemTime', 'CreatedSystemTime_CST']].sample(5) # Check all times are -05:00 or -06:00 from UTC (Daylight Savings Time)."
   ]
  },
  {
   "cell_type": "code",
   "execution_count": 28,
   "metadata": {
    "ExecuteTime": {
     "end_time": "2023-08-09T00:30:27.157941567Z",
     "start_time": "2023-08-09T00:30:24.826720206Z"
    },
    "collapsed": false
   },
   "outputs": [
    {
     "data": {
      "text/plain": [
       "'2023-04-10'"
      ]
     },
     "execution_count": 28,
     "metadata": {},
     "output_type": "execute_result"
    }
   ],
   "source": [
    "# Convert the TimeCreatedSystemTime CST column from Datetime to a date datatype (formatted like YYYY-MM-DD).\n",
    "machines_events['CreatedSystemTime_CST_formatted'] = machines_events['CreatedSystemTime_CST'].dt.strftime('%Y-%m-%d')\n",
    "machines_events['CreatedSystemTime_CST_formatted'][0]"
   ]
  },
  {
   "cell_type": "code",
   "execution_count": 29,
   "metadata": {
    "ExecuteTime": {
     "end_time": "2023-08-09T00:30:27.158248431Z",
     "start_time": "2023-08-09T00:30:27.152667107Z"
    },
    "collapsed": false
   },
   "outputs": [
    {
     "data": {
      "text/plain": [
       "datetime.date"
      ]
     },
     "execution_count": 29,
     "metadata": {},
     "output_type": "execute_result"
    }
   ],
   "source": [
    "type(pd.to_datetime('2023-07-23 00:01:00').date())"
   ]
  },
  {
   "cell_type": "markdown",
   "metadata": {
    "collapsed": false
   },
   "source": [
    "\n",
    "# Join Boot events with machines separately.\n"
   ]
  },
  {
   "cell_type": "code",
   "execution_count": 30,
   "metadata": {
    "ExecuteTime": {
     "end_time": "2023-08-09T00:30:28.284896916Z",
     "start_time": "2023-08-09T00:30:27.155144347Z"
    },
    "collapsed": false
   },
   "outputs": [
    {
     "name": "stdout",
     "output_type": "stream",
     "text": [
      "1593485\n"
     ]
    }
   ],
   "source": [
    "df_boot = pd.read_parquet('../do_not_commit/Datasets/BootEvents.parquet')\n",
    "print(len(df_boot))"
   ]
  },
  {
   "cell_type": "code",
   "execution_count": 31,
   "metadata": {
    "ExecuteTime": {
     "end_time": "2023-08-09T00:30:28.290786419Z",
     "start_time": "2023-08-09T00:30:28.281949523Z"
    },
    "collapsed": false
   },
   "outputs": [],
   "source": [
    "df_boot['error_type'] = 'Boot'"
   ]
  },
  {
   "cell_type": "code",
   "execution_count": 32,
   "metadata": {
    "ExecuteTime": {
     "end_time": "2023-08-09T00:30:28.300368216Z",
     "start_time": "2023-08-09T00:30:28.290317991Z"
    },
    "collapsed": false
   },
   "outputs": [
    {
     "data": {
      "text/plain": [
       "array(['ClientItemKey', 'ID', 'RWB_CREATE_TIMESTAMP',\n",
       "       'RWB_EFFECTIVE_DATE', 'RWB_ETL_EVENT_DESTINATION_IDENTIFIER',\n",
       "       'SchemaVersion', 'error_type'], dtype=object)"
      ]
     },
     "execution_count": 32,
     "metadata": {},
     "output_type": "execute_result"
    }
   ],
   "source": [
    "# What columns do all four event types have in common?\n",
    "common_columns = reduce(np.intersect1d, (df_app.columns, df_boot.columns, df_hang.columns, df_win.columns))\n",
    "common_columns"
   ]
  },
  {
   "cell_type": "code",
   "execution_count": 33,
   "metadata": {
    "ExecuteTime": {
     "end_time": "2023-08-09T00:30:28.300471907Z",
     "start_time": "2023-08-09T00:30:28.293320388Z"
    },
    "collapsed": false
   },
   "outputs": [],
   "source": [
    "df_boot.rename(\n",
    "    columns={\n",
    "        'BootId':'BootID',\n",
    "        'ProgramId':'ProgramID',\n",
    "        'FileId':'FileID',\n",
    "        'AppVersion':'Combined_Version',\n",
    "        'ExceptionCode':'Combined_Exception',\n",
    "        'ReportId':'ReportID'\n",
    "    },\n",
    "    inplace=True\n",
    ")"
   ]
  },
  {
   "cell_type": "code",
   "execution_count": 34,
   "metadata": {
    "ExecuteTime": {
     "end_time": "2023-08-09T00:30:33.595432657Z",
     "start_time": "2023-08-09T00:30:28.298047440Z"
    },
    "collapsed": false
   },
   "outputs": [],
   "source": [
    "# Needs to be a str to join later w/ 'opened_at_formatted'.\n",
    "# BootID is synonymous with 'TimeCreatedSystemTime'\n",
    "# since it is the time on the machine when the boot event occurred.\n",
    "df_boot['BootID_formatted'] = df_boot['BootID'].dt.strftime('%Y-%m-%d')"
   ]
  },
  {
   "cell_type": "code",
   "execution_count": 35,
   "metadata": {
    "ExecuteTime": {
     "end_time": "2023-08-09T00:30:34.813026948Z",
     "start_time": "2023-08-09T00:30:33.598247036Z"
    },
    "collapsed": false
   },
   "outputs": [],
   "source": [
    "# Join machine name to boot events, similar to other section.\n",
    "machines_boot = df_boot.merge(machines[['RWB_EFFECTIVE_DATE', 'ClientItemKey', 'Name0']], on=['RWB_EFFECTIVE_DATE', 'ClientItemKey'])"
   ]
  },
  {
   "cell_type": "markdown",
   "metadata": {
    "collapsed": false
   },
   "source": [
    "\n",
    "# Join machines and events with INCs.\n"
   ]
  },
  {
   "cell_type": "code",
   "execution_count": 39,
   "metadata": {
    "ExecuteTime": {
     "end_time": "2023-08-09T00:30:34.920584119Z",
     "start_time": "2023-08-09T00:30:34.815044564Z"
    },
    "collapsed": false
   },
   "outputs": [],
   "source": [
    "# From blob storage:\n",
    "# incs = pd.read_csv('../do_not_commit/Datasets/ServiceNow_Incident.csv', low_memory=False)\n",
    "incs = pd.read_csv('../do_not_commit/Datasets/ServiceNow_INC_20230730.csv', low_memory=False)"
   ]
  },
  {
   "cell_type": "code",
   "execution_count": 40,
   "metadata": {
    "ExecuteTime": {
     "end_time": "2023-08-09T00:30:34.976721938Z",
     "start_time": "2023-08-09T00:30:34.925866830Z"
    },
    "collapsed": false
   },
   "outputs": [],
   "source": [
    "# DateTime formatting.\n",
    "incs['opened_at'] = pd.to_datetime(incs['opened_at'])\n",
    "incs['opened_at_formatted'] = incs['opened_at'].dt.strftime('%Y-%m-%d')"
   ]
  },
  {
   "cell_type": "code",
   "execution_count": 41,
   "metadata": {
    "ExecuteTime": {
     "end_time": "2023-08-09T00:30:35.458732569Z",
     "start_time": "2023-08-09T00:30:34.953662160Z"
    },
    "collapsed": false
   },
   "outputs": [
    {
     "name": "stdout",
     "output_type": "stream",
     "text": [
      "347831\n"
     ]
    }
   ],
   "source": [
    "# Join INCs to events on:\n",
    "# 1. Machine name, and\n",
    "# 2. The event and the INC both occurred on the same day, using %Y-%m-%d format (YYYY-MM-DD).\n",
    "incs_merged = machines_events.merge(incs, left_on=['Name0', 'CreatedSystemTime_CST_formatted'], right_on=['configuration_item', 'opened_at_formatted'], how='left')\n",
    "print(len(incs_merged))"
   ]
  },
  {
   "cell_type": "code",
   "execution_count": 42,
   "metadata": {
    "ExecuteTime": {
     "end_time": "2023-08-09T00:30:39.031170133Z",
     "start_time": "2023-08-09T00:30:35.455675814Z"
    },
    "collapsed": false
   },
   "outputs": [],
   "source": [
    "# Drop columns with nothing in them.\n",
    "incs_merged.dropna(axis=1, how='all', inplace=True)"
   ]
  },
  {
   "cell_type": "code",
   "execution_count": 43,
   "metadata": {
    "ExecuteTime": {
     "end_time": "2023-08-09T00:30:39.036243441Z",
     "start_time": "2023-08-09T00:30:39.032024268Z"
    },
    "collapsed": false
   },
   "outputs": [],
   "source": [
    "# msno.matrix(incs_merged, labels=True, fontsize=7)"
   ]
  },
  {
   "cell_type": "code",
   "execution_count": 44,
   "metadata": {
    "ExecuteTime": {
     "end_time": "2023-08-09T00:30:39.048750989Z",
     "start_time": "2023-08-09T00:30:39.034926372Z"
    },
    "collapsed": false
   },
   "outputs": [
    {
     "name": "stdout",
     "output_type": "stream",
     "text": [
      "8263 INC rows originally\n",
      "Now 34625\n"
     ]
    }
   ],
   "source": [
    "# Should be many more. Why only still 4,000?\n",
    "print(len(incs), \"INC rows originally\")\n",
    "print(\"Now\", incs_merged['number'].notnull().sum())"
   ]
  },
  {
   "cell_type": "markdown",
   "metadata": {
    "collapsed": false
   },
   "source": [
    "\n",
    "#### Remove INCs assc. w/ events *after* the INC was already filed.\n"
   ]
  },
  {
   "cell_type": "code",
   "execution_count": 45,
   "metadata": {
    "ExecuteTime": {
     "end_time": "2023-08-09T00:30:39.070732537Z",
     "start_time": "2023-08-09T00:30:39.050471592Z"
    },
    "collapsed": false
   },
   "outputs": [
    {
     "data": {
      "text/html": [
       "<div>\n",
       "<style scoped>\n",
       "    .dataframe tbody tr th:only-of-type {\n",
       "        vertical-align: middle;\n",
       "    }\n",
       "\n",
       "    .dataframe tbody tr th {\n",
       "        vertical-align: top;\n",
       "    }\n",
       "\n",
       "    .dataframe thead th {\n",
       "        text-align: right;\n",
       "    }\n",
       "</style>\n",
       "<table border=\"1\" class=\"dataframe\">\n",
       "  <thead>\n",
       "    <tr style=\"text-align: right;\">\n",
       "      <th></th>\n",
       "      <th>CreatedSystemTime_CST_formatted</th>\n",
       "      <th>CreatedSystemTime_CST</th>\n",
       "      <th>opened_at</th>\n",
       "      <th>opened_at_formatted</th>\n",
       "      <th>Name0</th>\n",
       "      <th>configuration_item</th>\n",
       "      <th>number</th>\n",
       "      <th>short_description_NER</th>\n",
       "    </tr>\n",
       "  </thead>\n",
       "  <tbody>\n",
       "    <tr>\n",
       "      <th>74</th>\n",
       "      <td>2023-04-10</td>\n",
       "      <td>2023-04-10 08:28:18.740000-05:00</td>\n",
       "      <td>2023-04-10 11:20:00</td>\n",
       "      <td>2023-04-10</td>\n",
       "      <td>TIB-L-U32432</td>\n",
       "      <td>TIB-L-U32432</td>\n",
       "      <td>INC0515837</td>\n",
       "      <td>URGENT| Repeated Blue Screen of Death</td>\n",
       "    </tr>\n",
       "    <tr>\n",
       "      <th>75</th>\n",
       "      <td>2023-04-10</td>\n",
       "      <td>2023-04-10 15:23:56.900000-05:00</td>\n",
       "      <td>2023-04-10 11:20:00</td>\n",
       "      <td>2023-04-10</td>\n",
       "      <td>TIB-L-U32432</td>\n",
       "      <td>TIB-L-U32432</td>\n",
       "      <td>INC0515837</td>\n",
       "      <td>URGENT| Repeated Blue Screen of Death</td>\n",
       "    </tr>\n",
       "    <tr>\n",
       "      <th>293966</th>\n",
       "      <td>2023-04-10</td>\n",
       "      <td>2023-04-10 12:35:27.050000-05:00</td>\n",
       "      <td>2023-04-10 11:20:00</td>\n",
       "      <td>2023-04-10</td>\n",
       "      <td>TIB-L-U32432</td>\n",
       "      <td>TIB-L-U32432</td>\n",
       "      <td>INC0515837</td>\n",
       "      <td>URGENT| Repeated Blue Screen of Death</td>\n",
       "    </tr>\n",
       "  </tbody>\n",
       "</table>\n",
       "</div>"
      ],
      "text/plain": [
       "       CreatedSystemTime_CST_formatted            CreatedSystemTime_CST   \n",
       "74                          2023-04-10 2023-04-10 08:28:18.740000-05:00  \\\n",
       "75                          2023-04-10 2023-04-10 15:23:56.900000-05:00   \n",
       "293966                      2023-04-10 2023-04-10 12:35:27.050000-05:00   \n",
       "\n",
       "                 opened_at opened_at_formatted         Name0   \n",
       "74     2023-04-10 11:20:00          2023-04-10  TIB-L-U32432  \\\n",
       "75     2023-04-10 11:20:00          2023-04-10  TIB-L-U32432   \n",
       "293966 2023-04-10 11:20:00          2023-04-10  TIB-L-U32432   \n",
       "\n",
       "       configuration_item      number                  short_description_NER  \n",
       "74           TIB-L-U32432  INC0515837  URGENT| Repeated Blue Screen of Death  \n",
       "75           TIB-L-U32432  INC0515837  URGENT| Repeated Blue Screen of Death  \n",
       "293966       TIB-L-U32432  INC0515837  URGENT| Repeated Blue Screen of Death  "
      ]
     },
     "execution_count": 45,
     "metadata": {},
     "output_type": "execute_result"
    }
   ],
   "source": [
    "# INCs w/ multiple events assc. may attribute the event to the INC\n",
    "# despite the event occurring *after* the INC was already filed.\n",
    "incs_merged[incs_merged['number'] == 'INC0515837'][[\n",
    "    'CreatedSystemTime_CST_formatted',\n",
    "    'CreatedSystemTime_CST',\n",
    "    'opened_at',\n",
    "    'opened_at_formatted',\n",
    "    'Name0',\n",
    "    'configuration_item',\n",
    "    'number',\n",
    "    # 'FaultingApplicationName',\n",
    "    # 'FaultingModuleName',\n",
    "    'short_description_NER'\n",
    "]]"
   ]
  },
  {
   "cell_type": "code",
   "execution_count": 46,
   "metadata": {
    "ExecuteTime": {
     "end_time": "2023-08-09T00:30:39.096587113Z",
     "start_time": "2023-08-09T00:30:39.060573871Z"
    },
    "collapsed": false
   },
   "outputs": [],
   "source": [
    "incs_merged['opened_at_cst_not_utc'] = incs_merged['opened_at'].dt.tz_localize('US/Central')"
   ]
  },
  {
   "cell_type": "code",
   "execution_count": 47,
   "metadata": {
    "ExecuteTime": {
     "end_time": "2023-08-09T00:30:39.153574012Z",
     "start_time": "2023-08-09T00:30:39.076951759Z"
    },
    "collapsed": false
   },
   "outputs": [
    {
     "name": "stdout",
     "output_type": "stream",
     "text": [
      "CreatedSystemTime_CST: 2023-04-10 08:28:18.740000-05:00\n",
      "INC file time CST:     2023-04-10 11:20:00-05:00\n",
      "CreatedCST-opened_at:  -1 days +21:08:18.740000\n"
     ]
    }
   ],
   "source": [
    "print(\"CreatedSystemTime_CST:\", incs_merged.loc[74, 'CreatedSystemTime_CST'])\n",
    "print(\"INC file time CST:    \", incs_merged.loc[74, 'opened_at_cst_not_utc'])\n",
    "print(\"CreatedCST-opened_at: \", incs_merged.loc[74, 'CreatedSystemTime_CST'] - incs_merged.loc[74, 'opened_at_cst_not_utc'])\n",
    "# This event happened before the INC was filed, at 13:28 UTC vs 16:20 UTC (2h 52m):"
   ]
  },
  {
   "cell_type": "code",
   "execution_count": 48,
   "metadata": {
    "ExecuteTime": {
     "end_time": "2023-08-09T00:30:39.153766233Z",
     "start_time": "2023-08-09T00:30:39.121539238Z"
    },
    "collapsed": false
   },
   "outputs": [
    {
     "name": "stdout",
     "output_type": "stream",
     "text": [
      "CreatedSystemTime_CST: 2023-04-10 15:23:56.900000-05:00\n",
      "INC file time CST:     2023-04-10 11:20:00-05:00\n",
      "CreatedCST-opened_at:  0 days 04:03:56.900000\n"
     ]
    }
   ],
   "source": [
    "print(\"CreatedSystemTime_CST:\", incs_merged.loc[75, 'CreatedSystemTime_CST'])\n",
    "print(\"INC file time CST:    \", incs_merged.loc[75, 'opened_at_cst_not_utc'])\n",
    "print(\"CreatedCST-opened_at: \", incs_merged.loc[75, 'CreatedSystemTime_CST'] - incs_merged.loc[74, 'opened_at_cst_not_utc'])\n",
    "# This event happened after the INC was filed, at 20:23 UTC vs 16:20 UTC (4h 3m):"
   ]
  },
  {
   "cell_type": "code",
   "execution_count": 49,
   "metadata": {
    "ExecuteTime": {
     "end_time": "2023-08-09T00:30:39.153895370Z",
     "start_time": "2023-08-09T00:30:39.121678005Z"
    },
    "collapsed": false
   },
   "outputs": [
    {
     "data": {
      "text/plain": [
       "True"
      ]
     },
     "execution_count": 49,
     "metadata": {},
     "output_type": "execute_result"
    }
   ],
   "source": [
    "'opened_at_formatted' in incs.columns"
   ]
  },
  {
   "cell_type": "code",
   "execution_count": 50,
   "metadata": {
    "ExecuteTime": {
     "end_time": "2023-08-09T00:30:39.704719780Z",
     "start_time": "2023-08-09T00:30:39.121769976Z"
    },
    "collapsed": false
   },
   "outputs": [
    {
     "data": {
      "text/html": [
       "<div>\n",
       "<style scoped>\n",
       "    .dataframe tbody tr th:only-of-type {\n",
       "        vertical-align: middle;\n",
       "    }\n",
       "\n",
       "    .dataframe tbody tr th {\n",
       "        vertical-align: top;\n",
       "    }\n",
       "\n",
       "    .dataframe thead th {\n",
       "        text-align: right;\n",
       "    }\n",
       "</style>\n",
       "<table border=\"1\" class=\"dataframe\">\n",
       "  <thead>\n",
       "    <tr style=\"text-align: right;\">\n",
       "      <th></th>\n",
       "      <th>CreatedSystemTime_CST</th>\n",
       "      <th>opened_at</th>\n",
       "      <th>number</th>\n",
       "    </tr>\n",
       "  </thead>\n",
       "  <tbody>\n",
       "    <tr>\n",
       "      <th>74</th>\n",
       "      <td>2023-04-10 08:28:18.740000-05:00</td>\n",
       "      <td>2023-04-10 11:20:00</td>\n",
       "      <td>INC0515837</td>\n",
       "    </tr>\n",
       "    <tr>\n",
       "      <th>502</th>\n",
       "      <td>2023-04-10 07:47:01.750000-05:00</td>\n",
       "      <td>2023-04-10 20:43:00</td>\n",
       "      <td>INC0516099</td>\n",
       "    </tr>\n",
       "    <tr>\n",
       "      <th>570</th>\n",
       "      <td>2023-04-10 07:29:33.643000-05:00</td>\n",
       "      <td>2023-04-10 17:39:00</td>\n",
       "      <td>INC0516019</td>\n",
       "    </tr>\n",
       "    <tr>\n",
       "      <th>571</th>\n",
       "      <td>2023-04-10 07:51:04.520000-05:00</td>\n",
       "      <td>2023-04-10 17:39:00</td>\n",
       "      <td>INC0516019</td>\n",
       "    </tr>\n",
       "    <tr>\n",
       "      <th>572</th>\n",
       "      <td>2023-04-10 10:59:19.490000-05:00</td>\n",
       "      <td>2023-04-10 17:39:00</td>\n",
       "      <td>INC0516019</td>\n",
       "    </tr>\n",
       "    <tr>\n",
       "      <th>...</th>\n",
       "      <td>...</td>\n",
       "      <td>...</td>\n",
       "      <td>...</td>\n",
       "    </tr>\n",
       "    <tr>\n",
       "      <th>347659</th>\n",
       "      <td>2023-04-11 10:28:02.510000-05:00</td>\n",
       "      <td>2023-04-11 15:52:00</td>\n",
       "      <td>INC0516309</td>\n",
       "    </tr>\n",
       "    <tr>\n",
       "      <th>347803</th>\n",
       "      <td>2023-04-13 04:29:30.073000-05:00</td>\n",
       "      <td>2023-04-13 11:37:00</td>\n",
       "      <td>INC0516805</td>\n",
       "    </tr>\n",
       "    <tr>\n",
       "      <th>347804</th>\n",
       "      <td>2023-04-13 05:25:58.367000-05:00</td>\n",
       "      <td>2023-04-13 11:37:00</td>\n",
       "      <td>INC0516805</td>\n",
       "    </tr>\n",
       "    <tr>\n",
       "      <th>347805</th>\n",
       "      <td>2023-04-13 05:26:29.357000-05:00</td>\n",
       "      <td>2023-04-13 11:37:00</td>\n",
       "      <td>INC0516805</td>\n",
       "    </tr>\n",
       "    <tr>\n",
       "      <th>347806</th>\n",
       "      <td>2023-04-13 07:24:37.237000-05:00</td>\n",
       "      <td>2023-04-13 11:37:00</td>\n",
       "      <td>INC0516805</td>\n",
       "    </tr>\n",
       "  </tbody>\n",
       "</table>\n",
       "<p>29510 rows × 3 columns</p>\n",
       "</div>"
      ],
      "text/plain": [
       "                  CreatedSystemTime_CST           opened_at      number\n",
       "74     2023-04-10 08:28:18.740000-05:00 2023-04-10 11:20:00  INC0515837\n",
       "502    2023-04-10 07:47:01.750000-05:00 2023-04-10 20:43:00  INC0516099\n",
       "570    2023-04-10 07:29:33.643000-05:00 2023-04-10 17:39:00  INC0516019\n",
       "571    2023-04-10 07:51:04.520000-05:00 2023-04-10 17:39:00  INC0516019\n",
       "572    2023-04-10 10:59:19.490000-05:00 2023-04-10 17:39:00  INC0516019\n",
       "...                                 ...                 ...         ...\n",
       "347659 2023-04-11 10:28:02.510000-05:00 2023-04-11 15:52:00  INC0516309\n",
       "347803 2023-04-13 04:29:30.073000-05:00 2023-04-13 11:37:00  INC0516805\n",
       "347804 2023-04-13 05:25:58.367000-05:00 2023-04-13 11:37:00  INC0516805\n",
       "347805 2023-04-13 05:26:29.357000-05:00 2023-04-13 11:37:00  INC0516805\n",
       "347806 2023-04-13 07:24:37.237000-05:00 2023-04-13 11:37:00  INC0516805\n",
       "\n",
       "[29510 rows x 3 columns]"
      ]
     },
     "execution_count": 50,
     "metadata": {},
     "output_type": "execute_result"
    }
   ],
   "source": [
    "# Delete INCs across rows when the event occurs before the INC on the same day.\n",
    "mask = incs_merged['CreatedSystemTime_CST'] >= incs_merged['opened_at_cst_not_utc']\n",
    "columns_to_set_none = incs.columns\n",
    "incs_merged.loc[mask, columns_to_set_none] = None\n",
    "\n",
    "# Looks like no 'CreatedSystemTime_CST value is > 'opened_at'.\n",
    "incs_merged[incs_merged['number'].notnull()][['CreatedSystemTime_CST', 'opened_at', 'number']]"
   ]
  },
  {
   "cell_type": "code",
   "execution_count": 51,
   "metadata": {
    "ExecuteTime": {
     "end_time": "2023-08-09T00:30:39.710283368Z",
     "start_time": "2023-08-09T00:30:39.704585848Z"
    },
    "collapsed": false
   },
   "outputs": [
    {
     "data": {
      "text/plain": [
       "74       -1 days +21:08:18.740000\n",
       "75         0 days 04:03:56.900000\n",
       "502      -1 days +11:04:01.750000\n",
       "570      -1 days +13:50:33.643000\n",
       "571      -1 days +14:12:04.520000\n",
       "                   ...           \n",
       "347659   -1 days +18:36:02.510000\n",
       "347803   -1 days +16:52:30.073000\n",
       "347804   -1 days +17:48:58.367000\n",
       "347805   -1 days +17:49:29.357000\n",
       "347806   -1 days +19:47:37.237000\n",
       "Length: 34625, dtype: timedelta64[ns]"
      ]
     },
     "execution_count": 51,
     "metadata": {},
     "output_type": "execute_result"
    }
   ],
   "source": [
    "# Check to make sure. Positive = delete. Negative = keep.\n",
    "(incs_merged['CreatedSystemTime_CST'] - incs_merged['opened_at_cst_not_utc']).dropna()"
   ]
  },
  {
   "cell_type": "code",
   "execution_count": 52,
   "metadata": {
    "ExecuteTime": {
     "end_time": "2023-08-09T00:30:39.720717889Z",
     "start_time": "2023-08-09T00:30:39.712824820Z"
    },
    "collapsed": false
   },
   "outputs": [
    {
     "data": {
      "text/plain": [
       "CreatedSystemTime_CST    2023-04-10 07:47:01.750000-05:00\n",
       "opened_at_cst_not_utc           2023-04-10 20:43:00-05:00\n",
       "Name: 502, dtype: object"
      ]
     },
     "execution_count": 52,
     "metadata": {},
     "output_type": "execute_result"
    }
   ],
   "source": [
    "# Timedelta of -1 days (24h) + 16:04 = 8h 04m difference in true time.\n",
    "incs_merged.loc[502, ['CreatedSystemTime_CST', 'opened_at_cst_not_utc']]"
   ]
  },
  {
   "cell_type": "markdown",
   "metadata": {
    "collapsed": false
   },
   "source": [
    "\n",
    "# Join machines and boot events with INCs separately.\n"
   ]
  },
  {
   "cell_type": "code",
   "execution_count": 53,
   "metadata": {
    "ExecuteTime": {
     "end_time": "2023-08-09T00:30:41.464351409Z",
     "start_time": "2023-08-09T00:30:39.771184623Z"
    },
    "collapsed": false
   },
   "outputs": [],
   "source": [
    "incs_boot = machines_boot.merge(incs, left_on=['Name0', 'BootID_formatted'], right_on=['configuration_item', 'opened_at_formatted'], how='left')"
   ]
  },
  {
   "cell_type": "code",
   "execution_count": 54,
   "metadata": {
    "ExecuteTime": {
     "end_time": "2023-08-09T00:30:41.494280403Z",
     "start_time": "2023-08-09T00:30:41.489095214Z"
    },
    "collapsed": false
   },
   "outputs": [
    {
     "name": "stdout",
     "output_type": "stream",
     "text": [
      "7472 Boot INCs\n"
     ]
    }
   ],
   "source": [
    "print(incs_boot['number'].notnull().sum(), \"Boot INCs\")"
   ]
  },
  {
   "cell_type": "code",
   "execution_count": 55,
   "metadata": {
    "ExecuteTime": {
     "end_time": "2023-08-09T00:30:54.522448850Z",
     "start_time": "2023-08-09T00:30:41.493748906Z"
    },
    "collapsed": false
   },
   "outputs": [],
   "source": [
    "# Dropping columns with nothing in them.\n",
    "incs_boot.dropna(axis=1, how='all', inplace=True)"
   ]
  },
  {
   "cell_type": "code",
   "execution_count": 56,
   "metadata": {
    "ExecuteTime": {
     "end_time": "2023-08-09T00:30:54.574765118Z",
     "start_time": "2023-08-09T00:30:54.569546159Z"
    },
    "collapsed": false
   },
   "outputs": [
    {
     "name": "stdout",
     "output_type": "stream",
     "text": [
      "416\n"
     ]
    },
    {
     "data": {
      "text/plain": [
       "opened_at_formatted  configuration_item\n",
       "2023-01-03           CHI-L-U33511          2\n",
       "                     LOE-D-U25294          2\n",
       "                     MWE-L-U29955          2\n",
       "2023-01-04           MIL-L-U21470          2\n",
       "                     MIL-L-U30749          2\n",
       "                                          ..\n",
       "2023-07-05           MIL-L-U34247          2\n",
       "                     TCF-L-U34494          2\n",
       "2023-07-06           MIL-D-U25226          2\n",
       "2023-07-10           CHI-L-U34590          2\n",
       "                     PIT-L-U33237          2\n",
       "Length: 200, dtype: int64"
      ]
     },
     "execution_count": 56,
     "metadata": {},
     "output_type": "execute_result"
    }
   ],
   "source": [
    "# How many multiple INCs were filed on the same day for a given machine?\n",
    "grouped_counts = incs.groupby(['opened_at_formatted', 'configuration_item']).size()\n",
    "print(grouped_counts[grouped_counts > 1].sum())\n",
    "grouped_counts[grouped_counts > 1]"
   ]
  },
  {
   "cell_type": "code",
   "execution_count": 57,
   "metadata": {
    "ExecuteTime": {
     "end_time": "2023-08-09T00:30:54.642001321Z",
     "start_time": "2023-08-09T00:30:54.569700670Z"
    },
    "collapsed": false
   },
   "outputs": [
    {
     "data": {
      "text/html": [
       "<div>\n",
       "<style scoped>\n",
       "    .dataframe tbody tr th:only-of-type {\n",
       "        vertical-align: middle;\n",
       "    }\n",
       "\n",
       "    .dataframe tbody tr th {\n",
       "        vertical-align: top;\n",
       "    }\n",
       "\n",
       "    .dataframe thead th {\n",
       "        text-align: right;\n",
       "    }\n",
       "</style>\n",
       "<table border=\"1\" class=\"dataframe\">\n",
       "  <thead>\n",
       "    <tr style=\"text-align: right;\">\n",
       "      <th></th>\n",
       "      <th>RWB_EVENTBOOTRESULT_ID</th>\n",
       "      <th>RWB_ETL_EVENT_DESTINATION_IDENTIFIER</th>\n",
       "      <th>RWB_CREATE_TIMESTAMP</th>\n",
       "      <th>RWB_EFFECTIVE_DATE</th>\n",
       "      <th>ID</th>\n",
       "      <th>EventListID</th>\n",
       "      <th>ClientItemKey</th>\n",
       "      <th>GeneratedTime</th>\n",
       "      <th>UpdateDurationInMilliseconds</th>\n",
       "      <th>GPDurationInMilliseconds</th>\n",
       "      <th>...</th>\n",
       "      <th>location</th>\n",
       "      <th>category</th>\n",
       "      <th>is_phone</th>\n",
       "      <th>is_server</th>\n",
       "      <th>short_description_NER</th>\n",
       "      <th>configuration_item</th>\n",
       "      <th>calling_user_id</th>\n",
       "      <th>opened_at_date</th>\n",
       "      <th>machine_user_test</th>\n",
       "      <th>opened_at_formatted</th>\n",
       "    </tr>\n",
       "  </thead>\n",
       "  <tbody>\n",
       "    <tr>\n",
       "      <th>86</th>\n",
       "      <td>949656</td>\n",
       "      <td>1251</td>\n",
       "      <td>2023-02-01 09:02:13 -06:00</td>\n",
       "      <td>2023-02-01</td>\n",
       "      <td>72057594043080687</td>\n",
       "      <td>3</td>\n",
       "      <td>16792948</td>\n",
       "      <td>2023-02-01 09:22:37.737</td>\n",
       "      <td>0</td>\n",
       "      <td>0</td>\n",
       "      <td>...</td>\n",
       "      <td>{'link': 'https://rwbaird.service-now.com/api/...</td>\n",
       "      <td>network_cabling</td>\n",
       "      <td>0.0</td>\n",
       "      <td>0.0</td>\n",
       "      <td>pc not connecting to network</td>\n",
       "      <td>ASH-D-U25377</td>\n",
       "      <td>1521.0</td>\n",
       "      <td>2023-01-31</td>\n",
       "      <td>ASH-D-U25377</td>\n",
       "      <td>2023-01-31</td>\n",
       "    </tr>\n",
       "    <tr>\n",
       "      <th>87</th>\n",
       "      <td>949657</td>\n",
       "      <td>1251</td>\n",
       "      <td>2023-02-01 09:02:13 -06:00</td>\n",
       "      <td>2023-02-01</td>\n",
       "      <td>72057594043080688</td>\n",
       "      <td>3</td>\n",
       "      <td>16792948</td>\n",
       "      <td>2023-02-01 09:22:37.737</td>\n",
       "      <td>0</td>\n",
       "      <td>0</td>\n",
       "      <td>...</td>\n",
       "      <td>{'link': 'https://rwbaird.service-now.com/api/...</td>\n",
       "      <td>network_cabling</td>\n",
       "      <td>0.0</td>\n",
       "      <td>0.0</td>\n",
       "      <td>pc not connecting to network</td>\n",
       "      <td>ASH-D-U25377</td>\n",
       "      <td>1521.0</td>\n",
       "      <td>2023-01-31</td>\n",
       "      <td>ASH-D-U25377</td>\n",
       "      <td>2023-01-31</td>\n",
       "    </tr>\n",
       "    <tr>\n",
       "      <th>88</th>\n",
       "      <td>949659</td>\n",
       "      <td>1251</td>\n",
       "      <td>2023-02-01 09:02:13 -06:00</td>\n",
       "      <td>2023-02-01</td>\n",
       "      <td>72057594043080690</td>\n",
       "      <td>3</td>\n",
       "      <td>16792948</td>\n",
       "      <td>2023-02-01 09:22:37.737</td>\n",
       "      <td>0</td>\n",
       "      <td>0</td>\n",
       "      <td>...</td>\n",
       "      <td>{'link': 'https://rwbaird.service-now.com/api/...</td>\n",
       "      <td>network_cabling</td>\n",
       "      <td>0.0</td>\n",
       "      <td>0.0</td>\n",
       "      <td>pc not connecting to network</td>\n",
       "      <td>ASH-D-U25377</td>\n",
       "      <td>1521.0</td>\n",
       "      <td>2023-01-31</td>\n",
       "      <td>ASH-D-U25377</td>\n",
       "      <td>2023-01-31</td>\n",
       "    </tr>\n",
       "    <tr>\n",
       "      <th>89</th>\n",
       "      <td>949655</td>\n",
       "      <td>1251</td>\n",
       "      <td>2023-02-01 09:02:13 -06:00</td>\n",
       "      <td>2023-02-01</td>\n",
       "      <td>72057594043080686</td>\n",
       "      <td>3</td>\n",
       "      <td>16792948</td>\n",
       "      <td>2023-02-01 09:22:37.737</td>\n",
       "      <td>0</td>\n",
       "      <td>13514</td>\n",
       "      <td>...</td>\n",
       "      <td>{'link': 'https://rwbaird.service-now.com/api/...</td>\n",
       "      <td>network_cabling</td>\n",
       "      <td>0.0</td>\n",
       "      <td>0.0</td>\n",
       "      <td>pc not connecting to network</td>\n",
       "      <td>ASH-D-U25377</td>\n",
       "      <td>1521.0</td>\n",
       "      <td>2023-01-31</td>\n",
       "      <td>ASH-D-U25377</td>\n",
       "      <td>2023-01-31</td>\n",
       "    </tr>\n",
       "    <tr>\n",
       "      <th>90</th>\n",
       "      <td>949660</td>\n",
       "      <td>1251</td>\n",
       "      <td>2023-02-01 09:02:13 -06:00</td>\n",
       "      <td>2023-02-01</td>\n",
       "      <td>72057594043080691</td>\n",
       "      <td>3</td>\n",
       "      <td>16792948</td>\n",
       "      <td>2023-02-01 09:22:37.737</td>\n",
       "      <td>0</td>\n",
       "      <td>11379</td>\n",
       "      <td>...</td>\n",
       "      <td>{'link': 'https://rwbaird.service-now.com/api/...</td>\n",
       "      <td>network_cabling</td>\n",
       "      <td>0.0</td>\n",
       "      <td>0.0</td>\n",
       "      <td>pc not connecting to network</td>\n",
       "      <td>ASH-D-U25377</td>\n",
       "      <td>1521.0</td>\n",
       "      <td>2023-01-31</td>\n",
       "      <td>ASH-D-U25377</td>\n",
       "      <td>2023-01-31</td>\n",
       "    </tr>\n",
       "    <tr>\n",
       "      <th>...</th>\n",
       "      <td>...</td>\n",
       "      <td>...</td>\n",
       "      <td>...</td>\n",
       "      <td>...</td>\n",
       "      <td>...</td>\n",
       "      <td>...</td>\n",
       "      <td>...</td>\n",
       "      <td>...</td>\n",
       "      <td>...</td>\n",
       "      <td>...</td>\n",
       "      <td>...</td>\n",
       "      <td>...</td>\n",
       "      <td>...</td>\n",
       "      <td>...</td>\n",
       "      <td>...</td>\n",
       "      <td>...</td>\n",
       "      <td>...</td>\n",
       "      <td>...</td>\n",
       "      <td>...</td>\n",
       "      <td>...</td>\n",
       "      <td>...</td>\n",
       "    </tr>\n",
       "    <tr>\n",
       "      <th>1528148</th>\n",
       "      <td>1691933</td>\n",
       "      <td>10903</td>\n",
       "      <td>2023-07-04 08:35:26 -05:00</td>\n",
       "      <td>2023-07-04</td>\n",
       "      <td>72057594043849976</td>\n",
       "      <td>3</td>\n",
       "      <td>16809497</td>\n",
       "      <td>2023-07-04 09:13:57.197</td>\n",
       "      <td>0</td>\n",
       "      <td>17795</td>\n",
       "      <td>...</td>\n",
       "      <td>{'link': 'https://rwbaird.service-now.com/api/...</td>\n",
       "      <td>citrix</td>\n",
       "      <td>0.0</td>\n",
       "      <td>0.0</td>\n",
       "      <td>Thomson One / Start menu unresponsive in Citrix</td>\n",
       "      <td>ECL-L-U32327</td>\n",
       "      <td>1456.0</td>\n",
       "      <td>2023-07-03</td>\n",
       "      <td>ECL-L-U32327</td>\n",
       "      <td>2023-07-03</td>\n",
       "    </tr>\n",
       "    <tr>\n",
       "      <th>1528152</th>\n",
       "      <td>1691938</td>\n",
       "      <td>10903</td>\n",
       "      <td>2023-07-04 08:35:26 -05:00</td>\n",
       "      <td>2023-07-04</td>\n",
       "      <td>72057594043849981</td>\n",
       "      <td>3</td>\n",
       "      <td>16811719</td>\n",
       "      <td>2023-07-04 09:14:59.450</td>\n",
       "      <td>0</td>\n",
       "      <td>13923</td>\n",
       "      <td>...</td>\n",
       "      <td>{'link': 'https://rwbaird.service-now.com/api/...</td>\n",
       "      <td>active_directory</td>\n",
       "      <td>0.0</td>\n",
       "      <td>0.0</td>\n",
       "      <td>AD account locked out</td>\n",
       "      <td>PIT-L-U33237</td>\n",
       "      <td>13468.0</td>\n",
       "      <td>2023-07-03</td>\n",
       "      <td>PIT-L-U33237</td>\n",
       "      <td>2023-07-03</td>\n",
       "    </tr>\n",
       "    <tr>\n",
       "      <th>1528153</th>\n",
       "      <td>1691939</td>\n",
       "      <td>10903</td>\n",
       "      <td>2023-07-04 08:35:26 -05:00</td>\n",
       "      <td>2023-07-04</td>\n",
       "      <td>72057594043849982</td>\n",
       "      <td>3</td>\n",
       "      <td>16811719</td>\n",
       "      <td>2023-07-04 09:14:59.450</td>\n",
       "      <td>0</td>\n",
       "      <td>15521</td>\n",
       "      <td>...</td>\n",
       "      <td>{'link': 'https://rwbaird.service-now.com/api/...</td>\n",
       "      <td>active_directory</td>\n",
       "      <td>0.0</td>\n",
       "      <td>0.0</td>\n",
       "      <td>AD account locked out</td>\n",
       "      <td>PIT-L-U33237</td>\n",
       "      <td>13468.0</td>\n",
       "      <td>2023-07-03</td>\n",
       "      <td>PIT-L-U33237</td>\n",
       "      <td>2023-07-03</td>\n",
       "    </tr>\n",
       "    <tr>\n",
       "      <th>1528444</th>\n",
       "      <td>1692269</td>\n",
       "      <td>10903</td>\n",
       "      <td>2023-07-04 08:35:26 -05:00</td>\n",
       "      <td>2023-07-04</td>\n",
       "      <td>72057594043850312</td>\n",
       "      <td>3</td>\n",
       "      <td>16813708</td>\n",
       "      <td>2023-07-04 11:57:56.087</td>\n",
       "      <td>0</td>\n",
       "      <td>16158</td>\n",
       "      <td>...</td>\n",
       "      <td>{'link': 'https://rwbaird.service-now.com/api/...</td>\n",
       "      <td>annuity_net</td>\n",
       "      <td>0.0</td>\n",
       "      <td>0.0</td>\n",
       "      <td>User is stating that her entitlements are inco...</td>\n",
       "      <td>HDV-L-U33839</td>\n",
       "      <td>10020.0</td>\n",
       "      <td>2023-07-03</td>\n",
       "      <td>HDV-L-U33839</td>\n",
       "      <td>2023-07-03</td>\n",
       "    </tr>\n",
       "    <tr>\n",
       "      <th>1528445</th>\n",
       "      <td>1692270</td>\n",
       "      <td>10903</td>\n",
       "      <td>2023-07-04 08:35:26 -05:00</td>\n",
       "      <td>2023-07-04</td>\n",
       "      <td>72057594043850313</td>\n",
       "      <td>3</td>\n",
       "      <td>16813708</td>\n",
       "      <td>2023-07-04 11:57:56.087</td>\n",
       "      <td>0</td>\n",
       "      <td>15772</td>\n",
       "      <td>...</td>\n",
       "      <td>{'link': 'https://rwbaird.service-now.com/api/...</td>\n",
       "      <td>annuity_net</td>\n",
       "      <td>0.0</td>\n",
       "      <td>0.0</td>\n",
       "      <td>User is stating that her entitlements are inco...</td>\n",
       "      <td>HDV-L-U33839</td>\n",
       "      <td>10020.0</td>\n",
       "      <td>2023-07-03</td>\n",
       "      <td>HDV-L-U33839</td>\n",
       "      <td>2023-07-03</td>\n",
       "    </tr>\n",
       "  </tbody>\n",
       "</table>\n",
       "<p>7472 rows × 121 columns</p>\n",
       "</div>"
      ],
      "text/plain": [
       "         RWB_EVENTBOOTRESULT_ID  RWB_ETL_EVENT_DESTINATION_IDENTIFIER   \n",
       "86                       949656                                  1251  \\\n",
       "87                       949657                                  1251   \n",
       "88                       949659                                  1251   \n",
       "89                       949655                                  1251   \n",
       "90                       949660                                  1251   \n",
       "...                         ...                                   ...   \n",
       "1528148                 1691933                                 10903   \n",
       "1528152                 1691938                                 10903   \n",
       "1528153                 1691939                                 10903   \n",
       "1528444                 1692269                                 10903   \n",
       "1528445                 1692270                                 10903   \n",
       "\n",
       "               RWB_CREATE_TIMESTAMP RWB_EFFECTIVE_DATE                 ID   \n",
       "86       2023-02-01 09:02:13 -06:00         2023-02-01  72057594043080687  \\\n",
       "87       2023-02-01 09:02:13 -06:00         2023-02-01  72057594043080688   \n",
       "88       2023-02-01 09:02:13 -06:00         2023-02-01  72057594043080690   \n",
       "89       2023-02-01 09:02:13 -06:00         2023-02-01  72057594043080686   \n",
       "90       2023-02-01 09:02:13 -06:00         2023-02-01  72057594043080691   \n",
       "...                             ...                ...                ...   \n",
       "1528148  2023-07-04 08:35:26 -05:00         2023-07-04  72057594043849976   \n",
       "1528152  2023-07-04 08:35:26 -05:00         2023-07-04  72057594043849981   \n",
       "1528153  2023-07-04 08:35:26 -05:00         2023-07-04  72057594043849982   \n",
       "1528444  2023-07-04 08:35:26 -05:00         2023-07-04  72057594043850312   \n",
       "1528445  2023-07-04 08:35:26 -05:00         2023-07-04  72057594043850313   \n",
       "\n",
       "         EventListID  ClientItemKey           GeneratedTime   \n",
       "86                 3       16792948 2023-02-01 09:22:37.737  \\\n",
       "87                 3       16792948 2023-02-01 09:22:37.737   \n",
       "88                 3       16792948 2023-02-01 09:22:37.737   \n",
       "89                 3       16792948 2023-02-01 09:22:37.737   \n",
       "90                 3       16792948 2023-02-01 09:22:37.737   \n",
       "...              ...            ...                     ...   \n",
       "1528148            3       16809497 2023-07-04 09:13:57.197   \n",
       "1528152            3       16811719 2023-07-04 09:14:59.450   \n",
       "1528153            3       16811719 2023-07-04 09:14:59.450   \n",
       "1528444            3       16813708 2023-07-04 11:57:56.087   \n",
       "1528445            3       16813708 2023-07-04 11:57:56.087   \n",
       "\n",
       "         UpdateDurationInMilliseconds  GPDurationInMilliseconds  ...   \n",
       "86                                  0                         0  ...  \\\n",
       "87                                  0                         0  ...   \n",
       "88                                  0                         0  ...   \n",
       "89                                  0                     13514  ...   \n",
       "90                                  0                     11379  ...   \n",
       "...                               ...                       ...  ...   \n",
       "1528148                             0                     17795  ...   \n",
       "1528152                             0                     13923  ...   \n",
       "1528153                             0                     15521  ...   \n",
       "1528444                             0                     16158  ...   \n",
       "1528445                             0                     15772  ...   \n",
       "\n",
       "                                                  location          category   \n",
       "86       {'link': 'https://rwbaird.service-now.com/api/...   network_cabling  \\\n",
       "87       {'link': 'https://rwbaird.service-now.com/api/...   network_cabling   \n",
       "88       {'link': 'https://rwbaird.service-now.com/api/...   network_cabling   \n",
       "89       {'link': 'https://rwbaird.service-now.com/api/...   network_cabling   \n",
       "90       {'link': 'https://rwbaird.service-now.com/api/...   network_cabling   \n",
       "...                                                    ...               ...   \n",
       "1528148  {'link': 'https://rwbaird.service-now.com/api/...            citrix   \n",
       "1528152  {'link': 'https://rwbaird.service-now.com/api/...  active_directory   \n",
       "1528153  {'link': 'https://rwbaird.service-now.com/api/...  active_directory   \n",
       "1528444  {'link': 'https://rwbaird.service-now.com/api/...       annuity_net   \n",
       "1528445  {'link': 'https://rwbaird.service-now.com/api/...       annuity_net   \n",
       "\n",
       "        is_phone  is_server   \n",
       "86           0.0        0.0  \\\n",
       "87           0.0        0.0   \n",
       "88           0.0        0.0   \n",
       "89           0.0        0.0   \n",
       "90           0.0        0.0   \n",
       "...          ...        ...   \n",
       "1528148      0.0        0.0   \n",
       "1528152      0.0        0.0   \n",
       "1528153      0.0        0.0   \n",
       "1528444      0.0        0.0   \n",
       "1528445      0.0        0.0   \n",
       "\n",
       "                                     short_description_NER   \n",
       "86                            pc not connecting to network  \\\n",
       "87                            pc not connecting to network   \n",
       "88                            pc not connecting to network   \n",
       "89                            pc not connecting to network   \n",
       "90                            pc not connecting to network   \n",
       "...                                                    ...   \n",
       "1528148    Thomson One / Start menu unresponsive in Citrix   \n",
       "1528152                              AD account locked out   \n",
       "1528153                              AD account locked out   \n",
       "1528444  User is stating that her entitlements are inco...   \n",
       "1528445  User is stating that her entitlements are inco...   \n",
       "\n",
       "         configuration_item  calling_user_id opened_at_date machine_user_test   \n",
       "86             ASH-D-U25377           1521.0     2023-01-31      ASH-D-U25377  \\\n",
       "87             ASH-D-U25377           1521.0     2023-01-31      ASH-D-U25377   \n",
       "88             ASH-D-U25377           1521.0     2023-01-31      ASH-D-U25377   \n",
       "89             ASH-D-U25377           1521.0     2023-01-31      ASH-D-U25377   \n",
       "90             ASH-D-U25377           1521.0     2023-01-31      ASH-D-U25377   \n",
       "...                     ...              ...            ...               ...   \n",
       "1528148        ECL-L-U32327           1456.0     2023-07-03      ECL-L-U32327   \n",
       "1528152        PIT-L-U33237          13468.0     2023-07-03      PIT-L-U33237   \n",
       "1528153        PIT-L-U33237          13468.0     2023-07-03      PIT-L-U33237   \n",
       "1528444        HDV-L-U33839          10020.0     2023-07-03      HDV-L-U33839   \n",
       "1528445        HDV-L-U33839          10020.0     2023-07-03      HDV-L-U33839   \n",
       "\n",
       "        opened_at_formatted  \n",
       "86               2023-01-31  \n",
       "87               2023-01-31  \n",
       "88               2023-01-31  \n",
       "89               2023-01-31  \n",
       "90               2023-01-31  \n",
       "...                     ...  \n",
       "1528148          2023-07-03  \n",
       "1528152          2023-07-03  \n",
       "1528153          2023-07-03  \n",
       "1528444          2023-07-03  \n",
       "1528445          2023-07-03  \n",
       "\n",
       "[7472 rows x 121 columns]"
      ]
     },
     "execution_count": 57,
     "metadata": {},
     "output_type": "execute_result"
    }
   ],
   "source": [
    "incs_boot[incs_boot['number'].notnull()]"
   ]
  },
  {
   "cell_type": "markdown",
   "metadata": {
    "collapsed": false
   },
   "source": [
    "\n",
    "# Bring machines, events, and INCs together for both regular events and Boot events.\n"
   ]
  },
  {
   "cell_type": "code",
   "execution_count": 58,
   "metadata": {
    "ExecuteTime": {
     "end_time": "2023-08-09T00:31:19.757078368Z",
     "start_time": "2023-08-09T00:30:54.608984161Z"
    },
    "collapsed": false
   },
   "outputs": [
    {
     "name": "stderr",
     "output_type": "stream",
     "text": [
      "/var/folders/_m/rvvvdp755xg8_b7k34mkcsvh0000gn/T/ipykernel_30755/1261054633.py:2: PerformanceWarning: DataFrame is highly fragmented.  This is usually the result of calling `frame.insert` many times, which has poor performance.  Consider joining all columns at once using pd.concat(axis=1) instead. To get a de-fragmented frame, use `newframe = frame.copy()`\n",
      "  df.reset_index(inplace=True)\n"
     ]
    }
   ],
   "source": [
    "df = pd.concat([incs_merged, incs_boot])\n",
    "df.reset_index(inplace=True)\n",
    "\n",
    "# Dropping columns with nothing in them.\n",
    "df.dropna(axis=1, how='all', inplace=True)\n",
    "\n",
    "# Drop all data for May 20th, 2023.\n",
    "df = df[df['RWB_EFFECTIVE_DATE'] != '2023-05-20']"
   ]
  },
  {
   "cell_type": "code",
   "execution_count": 59,
   "metadata": {
    "ExecuteTime": {
     "end_time": "2023-08-09T00:31:20.121536941Z",
     "start_time": "2023-08-09T00:31:19.788552630Z"
    },
    "collapsed": false
   },
   "outputs": [
    {
     "data": {
      "text/plain": [
       "344671"
      ]
     },
     "execution_count": 59,
     "metadata": {},
     "output_type": "execute_result"
    }
   ],
   "source": [
    "len(df[df['error_type'].isin(['Application', 'Hang', 'Windows'])])"
   ]
  },
  {
   "cell_type": "code",
   "execution_count": 60,
   "metadata": {
    "ExecuteTime": {
     "end_time": "2023-08-09T00:31:20.507746526Z",
     "start_time": "2023-08-09T00:31:20.176123973Z"
    },
    "collapsed": false
   },
   "outputs": [
    {
     "data": {
      "text/plain": [
       "344671"
      ]
     },
     "execution_count": 60,
     "metadata": {},
     "output_type": "execute_result"
    }
   ],
   "source": [
    "len(df[df['error_type'] != 'Boot'])"
   ]
  },
  {
   "cell_type": "code",
   "execution_count": 61,
   "metadata": {
    "ExecuteTime": {
     "end_time": "2023-08-09T00:31:20.891801456Z",
     "start_time": "2023-08-09T00:31:20.510662599Z"
    },
    "collapsed": false
   },
   "outputs": [
    {
     "data": {
      "text/plain": [
       "<Axes: >"
      ]
     },
     "execution_count": 61,
     "metadata": {},
     "output_type": "execute_result"
    },
    {
     "data": {
      "image/png": "[encoded data removed]",
      "text/plain": [
       "<Figure size 640x480 with 1 Axes>"
      ]
     },
     "metadata": {},
     "output_type": "display_data"
    }
   ],
   "source": [
    "df['error_type'].hist()"
   ]
  },
  {
   "cell_type": "code",
   "execution_count": 62,
   "metadata": {
    "ExecuteTime": {
     "end_time": "2023-08-09T00:31:20.903414531Z",
     "start_time": "2023-08-09T00:31:20.889762294Z"
    },
    "collapsed": false
   },
   "outputs": [
    {
     "name": "stdout",
     "output_type": "stream",
     "text": [
      "(1862856, 170)\n"
     ]
    },
    {
     "data": {
      "text/plain": [
       "level_0                                   int64\n",
       "index                                   float64\n",
       "RWB_EVENTRAWRESULTITEM_ID               float64\n",
       "RWB_ETL_EVENT_DESTINATION_IDENTIFIER      int64\n",
       "RWB_CREATE_TIMESTAMP                     object\n",
       "                                         ...   \n",
       "MachineName                              object\n",
       "Reason                                   object\n",
       "param5                                   object\n",
       "ActionDescription                        object\n",
       "BootID_formatted                         object\n",
       "Length: 170, dtype: object"
      ]
     },
     "execution_count": 62,
     "metadata": {},
     "output_type": "execute_result"
    }
   ],
   "source": [
    "print(df.shape)\n",
    "df.dtypes"
   ]
  },
  {
   "cell_type": "code",
   "execution_count": 63,
   "metadata": {
    "ExecuteTime": {
     "end_time": "2023-08-09T00:31:20.903695870Z",
     "start_time": "2023-08-09T00:31:20.892694849Z"
    },
    "collapsed": false
   },
   "outputs": [],
   "source": [
    "# How many boot events occurred after an INC was filed?\n",
    "# df[df['error_type'] == 'Boot']['BootID'] - df[df['error_type'] == 'Boot']['opened_at_cst_not_utc']"
   ]
  },
  {
   "cell_type": "markdown",
   "metadata": {
    "collapsed": false
   },
   "source": [
    "\n",
    "# Create 'num_events' feature.\n"
   ]
  },
  {
   "cell_type": "code",
   "execution_count": 64,
   "metadata": {
    "ExecuteTime": {
     "end_time": "2023-08-09T00:31:20.903843252Z",
     "start_time": "2023-08-09T00:31:20.896291355Z"
    },
    "collapsed": false
   },
   "outputs": [
    {
     "data": {
      "text/plain": [
       "True"
      ]
     },
     "execution_count": 64,
     "metadata": {},
     "output_type": "execute_result"
    }
   ],
   "source": [
    "'CreatedSystemTime_CST_formatted' in list(df.columns)"
   ]
  },
  {
   "cell_type": "code",
   "execution_count": 65,
   "metadata": {
    "ExecuteTime": {
     "end_time": "2023-08-09T00:31:22.507265223Z",
     "start_time": "2023-08-09T00:31:20.953842913Z"
    },
    "collapsed": false
   },
   "outputs": [
    {
     "data": {
      "text/plain": [
       "<DatetimeArray>\n",
       "['NaT']\n",
       "Length: 1, dtype: datetime64[ns, America/Chicago]"
      ]
     },
     "execution_count": 65,
     "metadata": {},
     "output_type": "execute_result"
    }
   ],
   "source": [
    "# Because 'TimeCreatedSystemTime' never exists in 'df_boot',\n",
    "# 'CreatedSystemTime_CST_formatted' will always be pd.NaT for Boot events,\n",
    "# because it is unique to the regular events only.\n",
    "df[df['error_type'] == 'Boot']['CreatedSystemTime_CST'].unique()"
   ]
  },
  {
   "cell_type": "code",
   "execution_count": 66,
   "metadata": {
    "ExecuteTime": {
     "end_time": "2023-08-09T00:31:22.956177860Z",
     "start_time": "2023-08-09T00:31:22.561788168Z"
    },
    "collapsed": false
   },
   "outputs": [
    {
     "data": {
      "text/html": [
       "<div>\n",
       "<style scoped>\n",
       "    .dataframe tbody tr th:only-of-type {\n",
       "        vertical-align: middle;\n",
       "    }\n",
       "\n",
       "    .dataframe tbody tr th {\n",
       "        vertical-align: top;\n",
       "    }\n",
       "\n",
       "    .dataframe thead th {\n",
       "        text-align: right;\n",
       "    }\n",
       "</style>\n",
       "<table border=\"1\" class=\"dataframe\">\n",
       "  <thead>\n",
       "    <tr style=\"text-align: right;\">\n",
       "      <th></th>\n",
       "      <th>ClientItemKey</th>\n",
       "      <th>CreatedSystemTime_CST_formatted</th>\n",
       "      <th>events</th>\n",
       "    </tr>\n",
       "  </thead>\n",
       "  <tbody>\n",
       "    <tr>\n",
       "      <th>0</th>\n",
       "      <td>16783564</td>\n",
       "      <td>2023-03-13</td>\n",
       "      <td>1</td>\n",
       "    </tr>\n",
       "    <tr>\n",
       "      <th>1</th>\n",
       "      <td>16783564</td>\n",
       "      <td>2023-04-03</td>\n",
       "      <td>2</td>\n",
       "    </tr>\n",
       "    <tr>\n",
       "      <th>2</th>\n",
       "      <td>16783835</td>\n",
       "      <td>2023-01-10</td>\n",
       "      <td>1</td>\n",
       "    </tr>\n",
       "    <tr>\n",
       "      <th>3</th>\n",
       "      <td>16783835</td>\n",
       "      <td>2023-01-20</td>\n",
       "      <td>1</td>\n",
       "    </tr>\n",
       "    <tr>\n",
       "      <th>4</th>\n",
       "      <td>16783835</td>\n",
       "      <td>2023-02-10</td>\n",
       "      <td>1</td>\n",
       "    </tr>\n",
       "    <tr>\n",
       "      <th>...</th>\n",
       "      <td>...</td>\n",
       "      <td>...</td>\n",
       "      <td>...</td>\n",
       "    </tr>\n",
       "    <tr>\n",
       "      <th>188461</th>\n",
       "      <td>16819018</td>\n",
       "      <td>2023-05-15</td>\n",
       "      <td>1</td>\n",
       "    </tr>\n",
       "    <tr>\n",
       "      <th>188462</th>\n",
       "      <td>16819018</td>\n",
       "      <td>2023-06-28</td>\n",
       "      <td>1</td>\n",
       "    </tr>\n",
       "    <tr>\n",
       "      <th>188463</th>\n",
       "      <td>16819018</td>\n",
       "      <td>2023-06-30</td>\n",
       "      <td>3</td>\n",
       "    </tr>\n",
       "    <tr>\n",
       "      <th>188464</th>\n",
       "      <td>16819021</td>\n",
       "      <td>2023-06-30</td>\n",
       "      <td>1</td>\n",
       "    </tr>\n",
       "    <tr>\n",
       "      <th>188465</th>\n",
       "      <td>16819028</td>\n",
       "      <td>2023-07-03</td>\n",
       "      <td>1</td>\n",
       "    </tr>\n",
       "  </tbody>\n",
       "</table>\n",
       "<p>188466 rows × 3 columns</p>\n",
       "</div>"
      ],
      "text/plain": [
       "        ClientItemKey CreatedSystemTime_CST_formatted  events\n",
       "0            16783564                      2023-03-13       1\n",
       "1            16783564                      2023-04-03       2\n",
       "2            16783835                      2023-01-10       1\n",
       "3            16783835                      2023-01-20       1\n",
       "4            16783835                      2023-02-10       1\n",
       "...               ...                             ...     ...\n",
       "188461       16819018                      2023-05-15       1\n",
       "188462       16819018                      2023-06-28       1\n",
       "188463       16819018                      2023-06-30       3\n",
       "188464       16819021                      2023-06-30       1\n",
       "188465       16819028                      2023-07-03       1\n",
       "\n",
       "[188466 rows x 3 columns]"
      ]
     },
     "execution_count": 66,
     "metadata": {},
     "output_type": "execute_result"
    }
   ],
   "source": [
    "# Create the events feature by grouping by ClientItemKey and the TimeCreatedSystemTime CST date column,\n",
    "# and get the count of events for each machine each day.\n",
    "# Boot events excluded by default on basis of the .groupby() columns.\n",
    "\n",
    "# num_events = df.groupby(['RWB_EFFECTIVE_DATE', 'ClientItemKey']).agg('size').reset_index().rename(columns={0:'events'})\n",
    "num_events = df[df['error_type'] != 'Boot'].groupby(['ClientItemKey', 'CreatedSystemTime_CST_formatted']).agg('size').reset_index().rename(columns={0:'events'})\n",
    "num_events"
   ]
  },
  {
   "cell_type": "code",
   "execution_count": 67,
   "metadata": {
    "ExecuteTime": {
     "end_time": "2023-08-09T00:31:23.172737758Z",
     "start_time": "2023-08-09T00:31:23.039254709Z"
    },
    "collapsed": false
   },
   "outputs": [
    {
     "data": {
      "text/plain": [
       "<Axes: >"
      ]
     },
     "execution_count": 67,
     "metadata": {},
     "output_type": "execute_result"
    },
    {
     "data": {
      "image/png": "[encoded data removed]",
      "text/plain": [
       "<Figure size 640x480 with 1 Axes>"
      ]
     },
     "metadata": {},
     "output_type": "display_data"
    }
   ],
   "source": [
    "num_events['events'].hist(bins=30)"
   ]
  },
  {
   "cell_type": "code",
   "execution_count": null,
   "metadata": {
    "ExecuteTime": {
     "end_time": "2023-08-09T00:31:23.183309572Z",
     "start_time": "2023-08-09T00:31:23.152067134Z"
    },
    "collapsed": false
   },
   "outputs": [],
   "source": [
    "check_this_df = pd.read_parquet('../do_not_commit/FeatureDatasets/num_events.pq')\n",
    "print(check_this_df['events'].sum())\n",
    "check_this_df"
   ]
  },
  {
   "cell_type": "code",
   "execution_count": 382,
   "metadata": {
    "ExecuteTime": {
     "end_time": "2023-08-09T00:31:23.211324269Z",
     "start_time": "2023-08-09T00:31:23.172904243Z"
    },
    "collapsed": false
   },
   "outputs": [],
   "source": [
    "# Export the result to parquet and save to blob storage.\n",
    "num_events.to_parquet('../do_not_commit/FeatureDatasets/num_events.pq')"
   ]
  },
  {
   "cell_type": "markdown",
   "metadata": {
    "collapsed": false
   },
   "source": [
    "\n",
    "# Create 'num_events_incs' feature.\n"
   ]
  },
  {
   "cell_type": "code",
   "execution_count": 69,
   "metadata": {
    "ExecuteTime": {
     "end_time": "2023-08-09T00:31:23.321551762Z",
     "start_time": "2023-08-09T00:31:23.276420071Z"
    },
    "collapsed": false
   },
   "outputs": [
    {
     "data": {
      "text/html": [
       "<div>\n",
       "<style scoped>\n",
       "    .dataframe tbody tr th:only-of-type {\n",
       "        vertical-align: middle;\n",
       "    }\n",
       "\n",
       "    .dataframe tbody tr th {\n",
       "        vertical-align: top;\n",
       "    }\n",
       "\n",
       "    .dataframe thead th {\n",
       "        text-align: right;\n",
       "    }\n",
       "</style>\n",
       "<table border=\"1\" class=\"dataframe\">\n",
       "  <thead>\n",
       "    <tr style=\"text-align: right;\">\n",
       "      <th></th>\n",
       "      <th>ClientItemKey</th>\n",
       "      <th>CreatedSystemTime_CST_formatted</th>\n",
       "      <th>events</th>\n",
       "    </tr>\n",
       "  </thead>\n",
       "  <tbody>\n",
       "    <tr>\n",
       "      <th>0</th>\n",
       "      <td>16787905</td>\n",
       "      <td>2023-01-23</td>\n",
       "      <td>2</td>\n",
       "    </tr>\n",
       "    <tr>\n",
       "      <th>1</th>\n",
       "      <td>16787905</td>\n",
       "      <td>2023-05-01</td>\n",
       "      <td>1</td>\n",
       "    </tr>\n",
       "    <tr>\n",
       "      <th>2</th>\n",
       "      <td>16787935</td>\n",
       "      <td>2023-03-06</td>\n",
       "      <td>2</td>\n",
       "    </tr>\n",
       "    <tr>\n",
       "      <th>3</th>\n",
       "      <td>16787935</td>\n",
       "      <td>2023-03-30</td>\n",
       "      <td>1</td>\n",
       "    </tr>\n",
       "    <tr>\n",
       "      <th>4</th>\n",
       "      <td>16787935</td>\n",
       "      <td>2023-06-06</td>\n",
       "      <td>1</td>\n",
       "    </tr>\n",
       "    <tr>\n",
       "      <th>...</th>\n",
       "      <td>...</td>\n",
       "      <td>...</td>\n",
       "      <td>...</td>\n",
       "    </tr>\n",
       "    <tr>\n",
       "      <th>3182</th>\n",
       "      <td>16818798</td>\n",
       "      <td>2023-06-27</td>\n",
       "      <td>1</td>\n",
       "    </tr>\n",
       "    <tr>\n",
       "      <th>3183</th>\n",
       "      <td>16818818</td>\n",
       "      <td>2023-06-20</td>\n",
       "      <td>1</td>\n",
       "    </tr>\n",
       "    <tr>\n",
       "      <th>3184</th>\n",
       "      <td>16818828</td>\n",
       "      <td>2023-06-27</td>\n",
       "      <td>1</td>\n",
       "    </tr>\n",
       "    <tr>\n",
       "      <th>3185</th>\n",
       "      <td>16818878</td>\n",
       "      <td>2023-06-27</td>\n",
       "      <td>3</td>\n",
       "    </tr>\n",
       "    <tr>\n",
       "      <th>3186</th>\n",
       "      <td>16818988</td>\n",
       "      <td>2023-06-29</td>\n",
       "      <td>6</td>\n",
       "    </tr>\n",
       "  </tbody>\n",
       "</table>\n",
       "<p>3187 rows × 3 columns</p>\n",
       "</div>"
      ],
      "text/plain": [
       "      ClientItemKey CreatedSystemTime_CST_formatted  events\n",
       "0          16787905                      2023-01-23       2\n",
       "1          16787905                      2023-05-01       1\n",
       "2          16787935                      2023-03-06       2\n",
       "3          16787935                      2023-03-30       1\n",
       "4          16787935                      2023-06-06       1\n",
       "...             ...                             ...     ...\n",
       "3182       16818798                      2023-06-27       1\n",
       "3183       16818818                      2023-06-20       1\n",
       "3184       16818828                      2023-06-27       1\n",
       "3185       16818878                      2023-06-27       3\n",
       "3186       16818988                      2023-06-29       6\n",
       "\n",
       "[3187 rows x 3 columns]"
      ]
     },
     "execution_count": 69,
     "metadata": {},
     "output_type": "execute_result"
    }
   ],
   "source": [
    "# 'opened_at_formatted' was wiped for all events (rows) after an INC was filed on same day\n",
    "# in the join machines + events + incs section. If no value exists for any events\n",
    "# after an INC was filed, subsetting with .notnull() should give us what we need.\n",
    "\n",
    "num_events_inc = df[\n",
    "    (df['error_type'] != 'Boot') &\n",
    "    (df['opened_at_formatted'].notnull())\n",
    "].groupby(['ClientItemKey', 'CreatedSystemTime_CST_formatted']).agg('size').reset_index().rename(columns={0:'events'})\n",
    "num_events_inc"
   ]
  },
  {
   "cell_type": "code",
   "execution_count": 70,
   "metadata": {
    "ExecuteTime": {
     "end_time": "2023-08-09T00:31:23.386913117Z",
     "start_time": "2023-08-09T00:31:23.317607213Z"
    },
    "collapsed": false
   },
   "outputs": [
    {
     "data": {
      "text/html": [
       "<div>\n",
       "<style scoped>\n",
       "    .dataframe tbody tr th:only-of-type {\n",
       "        vertical-align: middle;\n",
       "    }\n",
       "\n",
       "    .dataframe tbody tr th {\n",
       "        vertical-align: top;\n",
       "    }\n",
       "\n",
       "    .dataframe thead th {\n",
       "        text-align: right;\n",
       "    }\n",
       "</style>\n",
       "<table border=\"1\" class=\"dataframe\">\n",
       "  <thead>\n",
       "    <tr style=\"text-align: right;\">\n",
       "      <th></th>\n",
       "      <th>CreatedSystemTime_CST</th>\n",
       "      <th>opened_at</th>\n",
       "    </tr>\n",
       "  </thead>\n",
       "  <tbody>\n",
       "    <tr>\n",
       "      <th>313428</th>\n",
       "      <td>2023-02-22 15:10:37.167000-06:00</td>\n",
       "      <td>2023-02-22 21:31:00</td>\n",
       "    </tr>\n",
       "    <tr>\n",
       "      <th>313429</th>\n",
       "      <td>2023-02-22 15:11:38.777000-06:00</td>\n",
       "      <td>2023-02-22 21:31:00</td>\n",
       "    </tr>\n",
       "    <tr>\n",
       "      <th>313430</th>\n",
       "      <td>2023-02-22 15:12:22.523000-06:00</td>\n",
       "      <td>2023-02-22 21:31:00</td>\n",
       "    </tr>\n",
       "    <tr>\n",
       "      <th>313431</th>\n",
       "      <td>2023-02-22 15:12:47.290000-06:00</td>\n",
       "      <td>2023-02-22 21:31:00</td>\n",
       "    </tr>\n",
       "    <tr>\n",
       "      <th>313432</th>\n",
       "      <td>2023-02-22 15:16:09.427000-06:00</td>\n",
       "      <td>2023-02-22 21:31:00</td>\n",
       "    </tr>\n",
       "    <tr>\n",
       "      <th>313433</th>\n",
       "      <td>2023-02-22 15:24:32.457000-06:00</td>\n",
       "      <td>2023-02-22 21:31:00</td>\n",
       "    </tr>\n",
       "    <tr>\n",
       "      <th>313434</th>\n",
       "      <td>2023-02-22 15:29:28.760000-06:00</td>\n",
       "      <td>2023-02-22 21:31:00</td>\n",
       "    </tr>\n",
       "    <tr>\n",
       "      <th>313435</th>\n",
       "      <td>2023-02-22 15:31:15.080000-06:00</td>\n",
       "      <td>2023-02-22 21:31:00</td>\n",
       "    </tr>\n",
       "    <tr>\n",
       "      <th>313436</th>\n",
       "      <td>2023-02-22 15:36:11.057000-06:00</td>\n",
       "      <td>2023-02-22 21:31:00</td>\n",
       "    </tr>\n",
       "    <tr>\n",
       "      <th>313437</th>\n",
       "      <td>2023-02-22 15:36:30.607000-06:00</td>\n",
       "      <td>2023-02-22 21:31:00</td>\n",
       "    </tr>\n",
       "  </tbody>\n",
       "</table>\n",
       "</div>"
      ],
      "text/plain": [
       "                  CreatedSystemTime_CST           opened_at\n",
       "313428 2023-02-22 15:10:37.167000-06:00 2023-02-22 21:31:00\n",
       "313429 2023-02-22 15:11:38.777000-06:00 2023-02-22 21:31:00\n",
       "313430 2023-02-22 15:12:22.523000-06:00 2023-02-22 21:31:00\n",
       "313431 2023-02-22 15:12:47.290000-06:00 2023-02-22 21:31:00\n",
       "313432 2023-02-22 15:16:09.427000-06:00 2023-02-22 21:31:00\n",
       "313433 2023-02-22 15:24:32.457000-06:00 2023-02-22 21:31:00\n",
       "313434 2023-02-22 15:29:28.760000-06:00 2023-02-22 21:31:00\n",
       "313435 2023-02-22 15:31:15.080000-06:00 2023-02-22 21:31:00\n",
       "313436 2023-02-22 15:36:11.057000-06:00 2023-02-22 21:31:00\n",
       "313437 2023-02-22 15:36:30.607000-06:00 2023-02-22 21:31:00"
      ]
     },
     "execution_count": 70,
     "metadata": {},
     "output_type": "execute_result"
    }
   ],
   "source": [
    "# 'CreatedSystemTime_CST' is in CST, 'opened_at' is in UTC, a difference of 6 hours.\n",
    "df[(df['ClientItemKey'] == 16790461) & (df['CreatedSystemTime_CST_formatted'] == '2023-02-22')][['CreatedSystemTime_CST', 'opened_at']]"
   ]
  },
  {
   "cell_type": "code",
   "execution_count": 71,
   "metadata": {
    "ExecuteTime": {
     "end_time": "2023-08-09T00:31:23.507884525Z",
     "start_time": "2023-08-09T00:31:23.361532821Z"
    },
    "collapsed": false
   },
   "outputs": [
    {
     "data": {
      "text/plain": [
       "<Axes: >"
      ]
     },
     "execution_count": 71,
     "metadata": {},
     "output_type": "execute_result"
    },
    {
     "data": {
      "image/png": "[encoded data removed]",
      "text/plain": [
       "<Figure size 640x480 with 1 Axes>"
      ]
     },
     "metadata": {},
     "output_type": "display_data"
    }
   ],
   "source": [
    "num_events_inc['events'].hist(bins=30)"
   ]
  },
  {
   "cell_type": "code",
   "execution_count": null,
   "metadata": {
    "ExecuteTime": {
     "end_time": "2023-08-09T00:31:23.508155065Z",
     "start_time": "2023-08-09T00:31:23.493510715Z"
    },
    "collapsed": false
   },
   "outputs": [],
   "source": [
    "check_this_df = pd.read_parquet('../do_not_commit/FeatureDatasets/num_events_inc.pq')\n",
    "print(check_this_df['events'].sum())\n",
    "check_this_df"
   ]
  },
  {
   "cell_type": "code",
   "execution_count": 387,
   "metadata": {
    "ExecuteTime": {
     "end_time": "2023-08-09T00:31:23.508235311Z",
     "start_time": "2023-08-09T00:31:23.493661121Z"
    },
    "collapsed": false
   },
   "outputs": [],
   "source": [
    "# Export the result to parquet and save to blob storage.\n",
    "num_events_inc.to_parquet('../do_not_commit/FeatureDatasets/num_events_inc.pq')"
   ]
  },
  {
   "cell_type": "markdown",
   "metadata": {
    "collapsed": false
   },
   "source": [
    "\n",
    "#### How many INCs contain direct reference to BSOD?\n"
   ]
  },
  {
   "cell_type": "code",
   "execution_count": 73,
   "metadata": {
    "ExecuteTime": {
     "end_time": "2023-08-09T00:31:23.595843778Z",
     "start_time": "2023-08-09T00:31:23.493743818Z"
    },
    "collapsed": false
   },
   "outputs": [
    {
     "data": {
      "text/plain": [
       "array([nan, 'URGENT| Repeated Blue Screen of Death', None, ...,\n",
       "       \"Computer was n't working\", 'Fidessa + TradeWeb install',\n",
       "       'Thomson One / Start menu unresponsive in Citrix'], dtype=object)"
      ]
     },
     "execution_count": 73,
     "metadata": {},
     "output_type": "execute_result"
    }
   ],
   "source": [
    "df['short_description_NER'].unique()"
   ]
  },
  {
   "cell_type": "code",
   "execution_count": 74,
   "metadata": {
    "ExecuteTime": {
     "end_time": "2023-08-09T00:31:24.003719080Z",
     "start_time": "2023-08-09T00:31:23.541509105Z"
    },
    "collapsed": false
   },
   "outputs": [
    {
     "data": {
      "text/plain": [
       "62"
      ]
     },
     "execution_count": 74,
     "metadata": {},
     "output_type": "execute_result"
    }
   ],
   "source": [
    "# How many short descriptions talk about BSODs?\n",
    "len(df.dropna(subset='short_description_NER')[df.dropna(subset='short_description_NER')['short_description_NER'].str.contains(\"(?i)Blue Screen|BSOD|[Dd]eath\")]['number'].unique())"
   ]
  },
  {
   "cell_type": "code",
   "execution_count": 75,
   "metadata": {
    "ExecuteTime": {
     "end_time": "2023-08-09T00:31:24.598375711Z",
     "start_time": "2023-08-09T00:31:24.003890333Z"
    },
    "collapsed": false
   },
   "outputs": [
    {
     "data": {
      "text/plain": [
       "<Axes: >"
      ]
     },
     "execution_count": 75,
     "metadata": {},
     "output_type": "execute_result"
    },
    {
     "data": {
      "image/png": "[encoded data removed]",
      "text/plain": [
       "<Figure size 640x480 with 1 Axes>"
      ]
     },
     "metadata": {},
     "output_type": "display_data"
    }
   ],
   "source": [
    "# What is the frequency of each error type for BSOD tickets?\n",
    "df.dropna(subset='short_description_NER')[df.dropna(subset='short_description_NER')['short_description_NER'].str.contains(\"(?i)Blue Screen|BSOD|[Dd]eath\")].drop_duplicates('number', keep='first')['error_type'].hist()"
   ]
  },
  {
   "cell_type": "code",
   "execution_count": 76,
   "metadata": {
    "ExecuteTime": {
     "end_time": "2023-08-09T00:31:25.086006008Z",
     "start_time": "2023-08-09T00:31:24.599786184Z"
    },
    "collapsed": false
   },
   "outputs": [
    {
     "data": {
      "text/html": [
       "<div>\n",
       "<style scoped>\n",
       "    .dataframe tbody tr th:only-of-type {\n",
       "        vertical-align: middle;\n",
       "    }\n",
       "\n",
       "    .dataframe tbody tr th {\n",
       "        vertical-align: top;\n",
       "    }\n",
       "\n",
       "    .dataframe thead th {\n",
       "        text-align: right;\n",
       "    }\n",
       "</style>\n",
       "<table border=\"1\" class=\"dataframe\">\n",
       "  <thead>\n",
       "    <tr style=\"text-align: right;\">\n",
       "      <th></th>\n",
       "      <th>error_type</th>\n",
       "      <th>Combined_Application</th>\n",
       "      <th>Combined_dll</th>\n",
       "      <th>Combined_Exception</th>\n",
       "    </tr>\n",
       "  </thead>\n",
       "  <tbody>\n",
       "    <tr>\n",
       "      <th>74</th>\n",
       "      <td>Application</td>\n",
       "      <td>powershell.exe</td>\n",
       "      <td>BIOSIntf.dll</td>\n",
       "      <td>c0000005</td>\n",
       "    </tr>\n",
       "    <tr>\n",
       "      <th>9241</th>\n",
       "      <td>Application</td>\n",
       "      <td>powershell.exe</td>\n",
       "      <td>BIOSIntf.dll</td>\n",
       "      <td>c0000005</td>\n",
       "    </tr>\n",
       "    <tr>\n",
       "      <th>25444</th>\n",
       "      <td>Application</td>\n",
       "      <td>powershell.exe</td>\n",
       "      <td>BIOSIntf.dll</td>\n",
       "      <td>c0000005</td>\n",
       "    </tr>\n",
       "    <tr>\n",
       "      <th>40854</th>\n",
       "      <td>Application</td>\n",
       "      <td>IntelAudioService.exe</td>\n",
       "      <td>ControlModule.dll</td>\n",
       "      <td>c0000005</td>\n",
       "    </tr>\n",
       "    <tr>\n",
       "      <th>46572</th>\n",
       "      <td>Application</td>\n",
       "      <td>powershell.exe</td>\n",
       "      <td>BIOSIntf.dll</td>\n",
       "      <td>c0000005</td>\n",
       "    </tr>\n",
       "    <tr>\n",
       "      <th>...</th>\n",
       "      <td>...</td>\n",
       "      <td>...</td>\n",
       "      <td>...</td>\n",
       "      <td>...</td>\n",
       "    </tr>\n",
       "    <tr>\n",
       "      <th>1803359</th>\n",
       "      <td>Boot</td>\n",
       "      <td>NaN</td>\n",
       "      <td>NaN</td>\n",
       "      <td>0x0</td>\n",
       "    </tr>\n",
       "    <tr>\n",
       "      <th>1822166</th>\n",
       "      <td>Boot</td>\n",
       "      <td>NaN</td>\n",
       "      <td>NaN</td>\n",
       "      <td>0x0</td>\n",
       "    </tr>\n",
       "    <tr>\n",
       "      <th>1825446</th>\n",
       "      <td>Boot</td>\n",
       "      <td>NaN</td>\n",
       "      <td>NaN</td>\n",
       "      <td>0x0</td>\n",
       "    </tr>\n",
       "    <tr>\n",
       "      <th>1834536</th>\n",
       "      <td>Boot</td>\n",
       "      <td>NaN</td>\n",
       "      <td>NaN</td>\n",
       "      <td>0x0</td>\n",
       "    </tr>\n",
       "    <tr>\n",
       "      <th>1848489</th>\n",
       "      <td>Boot</td>\n",
       "      <td>NaN</td>\n",
       "      <td>NaN</td>\n",
       "      <td>0x80020003</td>\n",
       "    </tr>\n",
       "  </tbody>\n",
       "</table>\n",
       "<p>62 rows × 4 columns</p>\n",
       "</div>"
      ],
      "text/plain": [
       "          error_type   Combined_Application       Combined_dll   \n",
       "74       Application         powershell.exe       BIOSIntf.dll  \\\n",
       "9241     Application         powershell.exe       BIOSIntf.dll   \n",
       "25444    Application         powershell.exe       BIOSIntf.dll   \n",
       "40854    Application  IntelAudioService.exe  ControlModule.dll   \n",
       "46572    Application         powershell.exe       BIOSIntf.dll   \n",
       "...              ...                    ...                ...   \n",
       "1803359         Boot                    NaN                NaN   \n",
       "1822166         Boot                    NaN                NaN   \n",
       "1825446         Boot                    NaN                NaN   \n",
       "1834536         Boot                    NaN                NaN   \n",
       "1848489         Boot                    NaN                NaN   \n",
       "\n",
       "        Combined_Exception  \n",
       "74                c0000005  \n",
       "9241              c0000005  \n",
       "25444             c0000005  \n",
       "40854             c0000005  \n",
       "46572             c0000005  \n",
       "...                    ...  \n",
       "1803359                0x0  \n",
       "1822166                0x0  \n",
       "1825446                0x0  \n",
       "1834536                0x0  \n",
       "1848489         0x80020003  \n",
       "\n",
       "[62 rows x 4 columns]"
      ]
     },
     "execution_count": 76,
     "metadata": {},
     "output_type": "execute_result"
    }
   ],
   "source": [
    "df.dropna(subset='short_description_NER')[(df.dropna(subset='short_description_NER')['short_description_NER'].str.contains(\"(?i)Blue Screen|BSOD|[Dd]eath\"))].drop_duplicates('number', keep='first')[['error_type', 'Combined_Application', 'Combined_dll', 'Combined_Exception']]"
   ]
  },
  {
   "cell_type": "code",
   "execution_count": 77,
   "metadata": {
    "ExecuteTime": {
     "end_time": "2023-08-09T00:31:26.635168852Z",
     "start_time": "2023-08-09T00:31:25.086646571Z"
    },
    "collapsed": false
   },
   "outputs": [
    {
     "name": "stderr",
     "output_type": "stream",
     "text": [
      "/var/folders/_m/rvvvdp755xg8_b7k34mkcsvh0000gn/T/ipykernel_30755/2969922424.py:1: UserWarning: Boolean Series key will be reindexed to match DataFrame index.\n",
      "  df.dropna(subset='short_description_NER')[(df.dropna(subset='short_description_NER')['short_description_NER'].str.contains(\"(?i)Blue Screen|BSOD|[Dd]eath\")) & (df['error_type'] == 'Application')].drop_duplicates('number', keep='first')['Combined_Application']\n"
     ]
    },
    {
     "data": {
      "text/plain": [
       "74                          powershell.exe\n",
       "9241                        powershell.exe\n",
       "25444                       powershell.exe\n",
       "40854                IntelAudioService.exe\n",
       "46572                       powershell.exe\n",
       "47768                       powershell.exe\n",
       "48260                 RtkAudUService64.exe\n",
       "51414                          OUTLOOK.EXE\n",
       "65019                       powershell.exe\n",
       "68297                              dwm.exe\n",
       "75345                       powershell.exe\n",
       "81693                IntelAudioService.exe\n",
       "83858                       powershell.exe\n",
       "84542                       powershell.exe\n",
       "89704                       WavesSvc64.exe\n",
       "90057                       powershell.exe\n",
       "93884     svchost.exe_BrokerInfrastructure\n",
       "97969                       powershell.exe\n",
       "108751                      powershell.exe\n",
       "119084                      powershell.exe\n",
       "169853                RtkAudUService64.exe\n",
       "207614                      powershell.exe\n",
       "245688                      powershell.exe\n",
       "291586                 Thomson One 5.0.exe\n",
       "Name: Combined_Application, dtype: object"
      ]
     },
     "execution_count": 77,
     "metadata": {},
     "output_type": "execute_result"
    }
   ],
   "source": [
    "df.dropna(subset='short_description_NER')[(df.dropna(subset='short_description_NER')['short_description_NER'].str.contains(\"(?i)Blue Screen|BSOD|[Dd]eath\")) & (df['error_type'] == 'Application')].drop_duplicates('number', keep='first')['Combined_Application']"
   ]
  },
  {
   "cell_type": "code",
   "execution_count": 79,
   "metadata": {
    "ExecuteTime": {
     "end_time": "2023-08-09T00:31:28.027364035Z",
     "start_time": "2023-08-09T00:31:26.636953168Z"
    },
    "collapsed": false
   },
   "outputs": [
    {
     "name": "stderr",
     "output_type": "stream",
     "text": [
      "/var/folders/_m/rvvvdp755xg8_b7k34mkcsvh0000gn/T/ipykernel_30755/120276331.py:1: UserWarning: Boolean Series key will be reindexed to match DataFrame index.\n",
      "  df.dropna(subset='short_description_NER')[(df.dropna(subset='short_description_NER')['short_description_NER'].str.contains(\"(?i)Blue Screen|BSOD|[Dd]eath\")) & (df['error_type'] == 'Boot')].drop_duplicates('number', keep='first')['short_description_NER']\n"
     ]
    },
    {
     "data": {
      "text/plain": [
       "402455                              BSOD- No stop code error\n",
       "489120                                                  BSOD\n",
       "502157                                                  BSOD\n",
       "510451                  Plugging in headphones prompted BSOD\n",
       "1192667    BSOD at Startup- Stop Code WHEA- uncorrectable...\n",
       "1203529    Received the blue screen of death <CARDINAL> t...\n",
       "1207316                                                 BSOD\n",
       "1234722                             Laptop BSOD'd 5/10/20223\n",
       "1245577    Laptop Overheating, Blue Screen Crashing- Unit...\n",
       "1250894    Repeated Blue Screen Error: Device did not sta...\n",
       "1264105    BSOD at Startup- Get stuck at Dell logo before...\n",
       "1269083                        Blue Screen Crashes on laptop\n",
       "1269206                  Laptop Blue Screening Every Morning\n",
       "1289926                                        BSOD- Startup\n",
       "1294146                                Laptop BSOD on U30366\n",
       "1295014               BSOD- Device did not startup correctly\n",
       "1302842                   Multiple BSODs over past few weeks\n",
       "1304234                                       BSOD on laptop\n",
       "1309999                                     CHI- Blue Screen\n",
       "1317995                   Users Laptop displayed Blue Screen\n",
       "1334713          BSOD continuously happening on Baird laptop\n",
       "1347184                         Computer BSOD- Update Failed\n",
       "1355455                                                 BSOD\n",
       "1359287                                                 BSOD\n",
       "1361634                                          Blue screen\n",
       "1361932                 Ndis.sys Blue Screen Error on Laptop\n",
       "1366812                                  BSOD- loaner laptop\n",
       "1369568                                                 BSOD\n",
       "1370465    Continuous BSOD 's, screen randomly goes black...\n",
       "1370603    <PERSON> has been having a higher frequency of...\n",
       "1373056                                 OnCall Support- BSOD\n",
       "1397955    Blue Screen; Error: Faulty Hardware Corrupted ...\n",
       "1410417                                 BSOD frequent errors\n",
       "1412199                       Laptop unresponsive after BSOD\n",
       "1415409     BSOD( STOP CODE ERROR: WHEA_UNCORRECTABLE_ERROR)\n",
       "1424144           PowerPoint recovery post blue screen crash\n",
       "1433571                             Laptop Blue Screen Issue\n",
       "1455154           Attempted Write to Read- Only: Blue Screen\n",
       "1479688                                   Laptop blue screen\n",
       "1481210    Laptop Performance Issues- Blue Screen Boot Issue\n",
       "1522529                             BSOD startup screen loop\n",
       "1527651                 Blue screen of death restart machine\n",
       "1543735                URGENT| Repeated Blue Screen of Death\n",
       "1557438                                                 BSOD\n",
       "1602931                                                 BSOD\n",
       "1611507                        BSOD when logging into laptop\n",
       "1617188          BSOD: Microsoft ran into a problem- Storage\n",
       "1636066                                                 BSOD\n",
       "1665846                                                 BSOD\n",
       "1666129    <PERSON> Laptop, working from home, getting bl...\n",
       "1700717      User is getting the BSOD multiple times a week.\n",
       "1730414                               Blue Screen Boot Error\n",
       "1755590                                                 BSOD\n",
       "1787109                         Running into BSOD new laptop\n",
       "1803359         Blue Screen Error: Device ran into a problem\n",
       "1822166                    Blue Screen Updates not completed\n",
       "1825446              User Experiencing Constant Blue Screens\n",
       "1834536                                                 BSOD\n",
       "1848489                                                 BSOD\n",
       "Name: short_description_NER, dtype: object"
      ]
     },
     "execution_count": 79,
     "metadata": {},
     "output_type": "execute_result"
    }
   ],
   "source": [
    "df.dropna(subset='short_description_NER')[(df.dropna(subset='short_description_NER')['short_description_NER'].str.contains(\"(?i)Blue Screen|BSOD|[Dd]eath\")) & (df['error_type'] == 'Boot')].drop_duplicates('number', keep='first')['short_description_NER']"
   ]
  },
  {
   "cell_type": "markdown",
   "metadata": {
    "collapsed": false
   },
   "source": [
    "\n",
    "#### What is the distribution of FaultApplicationName among INCs?\n"
   ]
  },
  {
   "cell_type": "code",
   "execution_count": 80,
   "metadata": {
    "ExecuteTime": {
     "end_time": "2023-08-09T00:31:28.374937897Z",
     "start_time": "2023-08-09T00:31:28.089943418Z"
    },
    "collapsed": false
   },
   "outputs": [],
   "source": [
    "df_check = df[df['error_type'] == 'Application']"
   ]
  },
  {
   "cell_type": "code",
   "execution_count": 81,
   "metadata": {
    "ExecuteTime": {
     "end_time": "2023-08-09T00:31:28.387004297Z",
     "start_time": "2023-08-09T00:31:28.381984677Z"
    },
    "collapsed": false
   },
   "outputs": [
    {
     "data": {
      "text/plain": [
       "Combined_Application\n",
       "powershell.exe               75110\n",
       "EXCEL.EXE                    23807\n",
       "Acrobat.exe                  22042\n",
       "WavesSvc64.exe               16361\n",
       "RtkAudUService64.exe         15082\n",
       "                             ...  \n",
       "AdobeCaptivate.exe               1\n",
       "DtsDebugHost.exe                 1\n",
       "svchost.exe_SensorService        1\n",
       "Login.exe                        1\n",
       "iupdate.exe                      1\n",
       "Name: count, Length: 736, dtype: int64"
      ]
     },
     "execution_count": 81,
     "metadata": {},
     "output_type": "execute_result"
    }
   ],
   "source": [
    "df_check['Combined_Application'].value_counts()"
   ]
  },
  {
   "cell_type": "markdown",
   "metadata": {
    "collapsed": false
   },
   "source": [
    "\n",
    "#### What is the distribution of modules among INCs?\n"
   ]
  },
  {
   "cell_type": "code",
   "execution_count": 82,
   "metadata": {
    "ExecuteTime": {
     "end_time": "2023-08-09T00:31:28.407208970Z",
     "start_time": "2023-08-09T00:31:28.395111637Z"
    },
    "collapsed": false
   },
   "outputs": [
    {
     "data": {
      "text/plain": [
       "Combined_dll\n",
       "BIOSIntf.dll            74986\n",
       "KERNELBASE.dll          44684\n",
       "ntdll.dll               26611\n",
       "WavesSvc64.exe          16278\n",
       "RtkAudUService64.exe    14951\n",
       "                        ...  \n",
       "v_slkdynhj.dll              1\n",
       "l_cgakubqt.dll              1\n",
       "f_wnobyade.dll              1\n",
       "v_pifauomw.dll              1\n",
       "u_lwawedzn.dll              1\n",
       "Name: count, Length: 18061, dtype: int64"
      ]
     },
     "execution_count": 82,
     "metadata": {},
     "output_type": "execute_result"
    }
   ],
   "source": [
    "df_check['Combined_dll'].value_counts()"
   ]
  },
  {
   "cell_type": "markdown",
   "metadata": {
    "collapsed": false
   },
   "source": [
    "\n",
    "#### Which exception codes are most common among INCs?\n"
   ]
  },
  {
   "cell_type": "code",
   "execution_count": 83,
   "metadata": {
    "ExecuteTime": {
     "end_time": "2023-08-09T00:31:28.438007775Z",
     "start_time": "2023-08-09T00:31:28.401990330Z"
    },
    "collapsed": false
   },
   "outputs": [
    {
     "data": {
      "text/plain": [
       "Combined_Application       Combined_Exception\n",
       "powershell.exe             c0000005              74992\n",
       "WavesSvc64.exe             c0000005              16325\n",
       "RtkAudUService64.exe       c0000005              14968\n",
       "Acrobat.exe                c0000005              10053\n",
       "                           e06d7363               9732\n",
       "                                                 ...  \n",
       "SSFolderPrev.exe           c0000005                  1\n",
       "SSHPdf2Jpg.exe             c0000094                  1\n",
       "SSMS-Setup-ENU.exe         c00000fd                  1\n",
       "Sage.NA.AT_AU.SysTray.exe  c000041d                  1\n",
       "zt.exe                     c0000005                  1\n",
       "Name: count, Length: 1702, dtype: int64"
      ]
     },
     "execution_count": 83,
     "metadata": {},
     "output_type": "execute_result"
    }
   ],
   "source": [
    "df_check[['Combined_Application', 'Combined_Exception']].value_counts()"
   ]
  },
  {
   "cell_type": "markdown",
   "metadata": {},
   "source": [
    "### Create Incident category and faulting applications figure for report"
   ]
  },
  {
   "cell_type": "code",
   "execution_count": 120,
   "metadata": {},
   "outputs": [
    {
     "data": {
      "text/html": [
       "\n",
       "<div id=\"altair-viz-6eb1137348f141eaa3b9d96e5f09fba8\"></div>\n",
       "<script type=\"text/javascript\">\n",
       "  var VEGA_DEBUG = (typeof VEGA_DEBUG == \"undefined\") ? {} : VEGA_DEBUG;\n",
       "  (function(spec, embedOpt){\n",
       "    let outputDiv = document.currentScript.previousElementSibling;\n",
       "    if (outputDiv.id !== \"altair-viz-6eb1137348f141eaa3b9d96e5f09fba8\") {\n",
       "      outputDiv = document.getElementById(\"altair-viz-6eb1137348f141eaa3b9d96e5f09fba8\");\n",
       "    }\n",
       "    const paths = {\n",
       "      \"vega\": \"https://cdn.jsdelivr.net/npm//vega@5?noext\",\n",
       "      \"vega-lib\": \"https://cdn.jsdelivr.net/npm//vega-lib?noext\",\n",
       "      \"vega-lite\": \"https://cdn.jsdelivr.net/npm//vega-lite@4.17.0?noext\",\n",
       "      \"vega-embed\": \"https://cdn.jsdelivr.net/npm//vega-embed@6?noext\",\n",
       "    };\n",
       "\n",
       "    function maybeLoadScript(lib, version) {\n",
       "      var key = `${lib.replace(\"-\", \"\")}_version`;\n",
       "      return (VEGA_DEBUG[key] == version) ?\n",
       "        Promise.resolve(paths[lib]) :\n",
       "        new Promise(function(resolve, reject) {\n",
       "          var s = document.createElement('script');\n",
       "          document.getElementsByTagName(\"head\")[0].appendChild(s);\n",
       "          s.async = true;\n",
       "          s.onload = () => {\n",
       "            VEGA_DEBUG[key] = version;\n",
       "            return resolve(paths[lib]);\n",
       "          };\n",
       "          s.onerror = () => reject(`Error loading script: ${paths[lib]}`);\n",
       "          s.src = paths[lib];\n",
       "        });\n",
       "    }\n",
       "\n",
       "    function showError(err) {\n",
       "      outputDiv.innerHTML = `<div class=\"error\" style=\"color:red;\">${err}</div>`;\n",
       "      throw err;\n",
       "    }\n",
       "\n",
       "    function displayChart(vegaEmbed) {\n",
       "      vegaEmbed(outputDiv, spec, embedOpt)\n",
       "        .catch(err => showError(`Javascript Error: ${err.message}<br>This usually means there's a typo in your chart specification. See the javascript console for the full traceback.`));\n",
       "    }\n",
       "\n",
       "    if(typeof define === \"function\" && define.amd) {\n",
       "      requirejs.config({paths});\n",
       "      require([\"vega-embed\"], displayChart, err => showError(`Error loading script: ${err.message}`));\n",
       "    } else {\n",
       "      maybeLoadScript(\"vega\", \"5\")\n",
       "        .then(() => maybeLoadScript(\"vega-lite\", \"4.17.0\"))\n",
       "        .then(() => maybeLoadScript(\"vega-embed\", \"6\"))\n",
       "        .catch(showError)\n",
       "        .then(() => displayChart(vegaEmbed));\n",
       "    }\n",
       "  })({\"config\": {\"view\": {\"continuousWidth\": 400, \"continuousHeight\": 300}}, \"data\": {\"name\": \"data-78e14be80fe09000c7864eedcfbd5a62\"}, \"mark\": \"bar\", \"encoding\": {\"tooltip\": {\"field\": \"count\", \"type\": \"quantitative\"}, \"x\": {\"axis\": {\"title\": \"No. of Events\"}, \"field\": \"count\", \"type\": \"quantitative\"}, \"y\": {\"axis\": {\"title\": \"Faulting Application Name\"}, \"field\": \"Combined_Application\", \"sort\": [\"powershell.exe\", \"EXCEL.EXE\", \"RuntimeBroker.exe\", \"WavesSvc64.exe\", \"RtkAudUService64.exe\", \"Acrobat.exe\", \"PBIDesktop.exe\", \"OUTLOOK.EXE\", \"igfxCUIServiceN.exe\", \"SearchApp.exe\"], \"type\": \"nominal\"}}, \"title\": \"\", \"$schema\": \"https://vega.github.io/schema/vega-lite/v4.17.0.json\", \"datasets\": {\"data-78e14be80fe09000c7864eedcfbd5a62\": [{\"Combined_Application\": \"powershell.exe\", \"count\": 6769}, {\"Combined_Application\": \"EXCEL.EXE\", \"count\": 2094}, {\"Combined_Application\": \"RuntimeBroker.exe\", \"count\": 2037}, {\"Combined_Application\": \"WavesSvc64.exe\", \"count\": 1749}, {\"Combined_Application\": \"RtkAudUService64.exe\", \"count\": 1615}, {\"Combined_Application\": \"Acrobat.exe\", \"count\": 1185}, {\"Combined_Application\": \"PBIDesktop.exe\", \"count\": 1013}, {\"Combined_Application\": \"OUTLOOK.EXE\", \"count\": 821}, {\"Combined_Application\": \"igfxCUIServiceN.exe\", \"count\": 809}, {\"Combined_Application\": \"SearchApp.exe\", \"count\": 770}]}}, {\"mode\": \"vega-lite\"});\n",
       "</script>"
      ],
      "text/plain": [
       "alt.Chart(...)"
      ]
     },
     "execution_count": 120,
     "metadata": {},
     "output_type": "execute_result"
    }
   ],
   "source": [
    "\n",
    "df = incs_merged\n",
    "if isinstance(df, (pd.DatetimeIndex, pd.MultiIndex)):\n",
    "\tdf = df.to_frame(index=False)\n",
    "\n",
    "\n",
    "df = df.query(\"\"\"`number`.str.contains('INC', na=False, case=False, regex=False)\"\"\")\n",
    "\n",
    "s2 = df[~pd.isnull(df['Combined_Application'])]\n",
    "\n",
    "def get_compare_chart(in_data, in_col, x_axis_title, y_axis_title, in_title):\n",
    "    \"\"\"\n",
    "    Visualize the top n most common faulting applications \n",
    "    \"\"\"\n",
    "\n",
    "    count_df2 = in_data.groupby(in_col).size().reset_index().rename(columns={0: 'count'})\n",
    "    # Sort order for chart\n",
    "    count_df2.sort_values('count', ascending=False, inplace=True)\n",
    "    count_df2 = count_df2.iloc[:10]\n",
    "    sort_order = [val for val in count_df2[in_col].unique()]\n",
    "    out_chart = alt.Chart(count_df2).mark_bar().encode(\n",
    "        x=alt.X('count:Q', axis=alt.Axis(title=x_axis_title)),\n",
    "        y=alt.Y(in_col + ':N',axis=alt.Axis(title=y_axis_title), sort=sort_order),\n",
    "        tooltip='count:Q'\n",
    "    ).properties(title=in_title)\n",
    "    return out_chart\n",
    "\n",
    "get_compare_chart(s2, 'Combined_Application', 'No. of Events', 'Faulting Application Name', '')"
   ]
  },
  {
   "cell_type": "code",
   "execution_count": 121,
   "metadata": {},
   "outputs": [
    {
     "data": {
      "text/html": [
       "\n",
       "<div id=\"altair-viz-58ac846fd50545e4beee4f384be6a934\"></div>\n",
       "<script type=\"text/javascript\">\n",
       "  var VEGA_DEBUG = (typeof VEGA_DEBUG == \"undefined\") ? {} : VEGA_DEBUG;\n",
       "  (function(spec, embedOpt){\n",
       "    let outputDiv = document.currentScript.previousElementSibling;\n",
       "    if (outputDiv.id !== \"altair-viz-58ac846fd50545e4beee4f384be6a934\") {\n",
       "      outputDiv = document.getElementById(\"altair-viz-58ac846fd50545e4beee4f384be6a934\");\n",
       "    }\n",
       "    const paths = {\n",
       "      \"vega\": \"https://cdn.jsdelivr.net/npm//vega@5?noext\",\n",
       "      \"vega-lib\": \"https://cdn.jsdelivr.net/npm//vega-lib?noext\",\n",
       "      \"vega-lite\": \"https://cdn.jsdelivr.net/npm//vega-lite@4.17.0?noext\",\n",
       "      \"vega-embed\": \"https://cdn.jsdelivr.net/npm//vega-embed@6?noext\",\n",
       "    };\n",
       "\n",
       "    function maybeLoadScript(lib, version) {\n",
       "      var key = `${lib.replace(\"-\", \"\")}_version`;\n",
       "      return (VEGA_DEBUG[key] == version) ?\n",
       "        Promise.resolve(paths[lib]) :\n",
       "        new Promise(function(resolve, reject) {\n",
       "          var s = document.createElement('script');\n",
       "          document.getElementsByTagName(\"head\")[0].appendChild(s);\n",
       "          s.async = true;\n",
       "          s.onload = () => {\n",
       "            VEGA_DEBUG[key] = version;\n",
       "            return resolve(paths[lib]);\n",
       "          };\n",
       "          s.onerror = () => reject(`Error loading script: ${paths[lib]}`);\n",
       "          s.src = paths[lib];\n",
       "        });\n",
       "    }\n",
       "\n",
       "    function showError(err) {\n",
       "      outputDiv.innerHTML = `<div class=\"error\" style=\"color:red;\">${err}</div>`;\n",
       "      throw err;\n",
       "    }\n",
       "\n",
       "    function displayChart(vegaEmbed) {\n",
       "      vegaEmbed(outputDiv, spec, embedOpt)\n",
       "        .catch(err => showError(`Javascript Error: ${err.message}<br>This usually means there's a typo in your chart specification. See the javascript console for the full traceback.`));\n",
       "    }\n",
       "\n",
       "    if(typeof define === \"function\" && define.amd) {\n",
       "      requirejs.config({paths});\n",
       "      require([\"vega-embed\"], displayChart, err => showError(`Error loading script: ${err.message}`));\n",
       "    } else {\n",
       "      maybeLoadScript(\"vega\", \"5\")\n",
       "        .then(() => maybeLoadScript(\"vega-lite\", \"4.17.0\"))\n",
       "        .then(() => maybeLoadScript(\"vega-embed\", \"6\"))\n",
       "        .catch(showError)\n",
       "        .then(() => displayChart(vegaEmbed));\n",
       "    }\n",
       "  })({\"config\": {\"view\": {\"continuousWidth\": 400, \"continuousHeight\": 300}}, \"data\": {\"name\": \"data-6deb87ffa1c17b62a3be6300a33d82f4\"}, \"mark\": \"bar\", \"encoding\": {\"tooltip\": {\"field\": \"count\", \"type\": \"quantitative\"}, \"x\": {\"axis\": {\"title\": \"No. of Incidents\"}, \"field\": \"count\", \"type\": \"quantitative\"}, \"y\": {\"axis\": {\"title\": \"Incident Category\"}, \"field\": \"category\", \"sort\": [\"laptop\", \"Microsoft Outlook 365\", \"microsoft_windows\", \"Thomson ONE\", \"Microsoft Excel 365\", \"scansnap\", \"Microsoft Teams\", \"adobe_acrobat\", \"hardware\", \"active_directory\"], \"type\": \"nominal\"}}, \"title\": \"\", \"$schema\": \"https://vega.github.io/schema/vega-lite/v4.17.0.json\", \"datasets\": {\"data-6deb87ffa1c17b62a3be6300a33d82f4\": [{\"category\": \"laptop\", \"count\": 409}, {\"category\": \"Microsoft Outlook 365\", \"count\": 230}, {\"category\": \"microsoft_windows\", \"count\": 178}, {\"category\": \"Thomson ONE\", \"count\": 157}, {\"category\": \"Microsoft Excel 365\", \"count\": 95}, {\"category\": \"scansnap\", \"count\": 93}, {\"category\": \"Microsoft Teams\", \"count\": 78}, {\"category\": \"adobe_acrobat\", \"count\": 60}, {\"category\": \"hardware\", \"count\": 52}, {\"category\": \"active_directory\", \"count\": 51}]}}, {\"mode\": \"vega-lite\"});\n",
       "</script>"
      ],
      "text/plain": [
       "alt.Chart(...)"
      ]
     },
     "execution_count": 121,
     "metadata": {},
     "output_type": "execute_result"
    }
   ],
   "source": [
    "### CATEGORY ### \n",
    "\n",
    "duplicates = df.duplicated(['number'], keep='first')\n",
    "s = df[~duplicates]\n",
    "\n",
    "s = s[~pd.isnull(s['category'])]\n",
    "\n",
    "get_compare_chart(s, 'category', 'No. of Incidents', 'Incident Category', '')"
   ]
  },
  {
   "cell_type": "code",
   "execution_count": 122,
   "metadata": {},
   "outputs": [
    {
     "data": {
      "text/html": [
       "\n",
       "<div id=\"altair-viz-b1d06be3691042399efe77446069c37a\"></div>\n",
       "<script type=\"text/javascript\">\n",
       "  var VEGA_DEBUG = (typeof VEGA_DEBUG == \"undefined\") ? {} : VEGA_DEBUG;\n",
       "  (function(spec, embedOpt){\n",
       "    let outputDiv = document.currentScript.previousElementSibling;\n",
       "    if (outputDiv.id !== \"altair-viz-b1d06be3691042399efe77446069c37a\") {\n",
       "      outputDiv = document.getElementById(\"altair-viz-b1d06be3691042399efe77446069c37a\");\n",
       "    }\n",
       "    const paths = {\n",
       "      \"vega\": \"https://cdn.jsdelivr.net/npm//vega@5?noext\",\n",
       "      \"vega-lib\": \"https://cdn.jsdelivr.net/npm//vega-lib?noext\",\n",
       "      \"vega-lite\": \"https://cdn.jsdelivr.net/npm//vega-lite@4.17.0?noext\",\n",
       "      \"vega-embed\": \"https://cdn.jsdelivr.net/npm//vega-embed@6?noext\",\n",
       "    };\n",
       "\n",
       "    function maybeLoadScript(lib, version) {\n",
       "      var key = `${lib.replace(\"-\", \"\")}_version`;\n",
       "      return (VEGA_DEBUG[key] == version) ?\n",
       "        Promise.resolve(paths[lib]) :\n",
       "        new Promise(function(resolve, reject) {\n",
       "          var s = document.createElement('script');\n",
       "          document.getElementsByTagName(\"head\")[0].appendChild(s);\n",
       "          s.async = true;\n",
       "          s.onload = () => {\n",
       "            VEGA_DEBUG[key] = version;\n",
       "            return resolve(paths[lib]);\n",
       "          };\n",
       "          s.onerror = () => reject(`Error loading script: ${paths[lib]}`);\n",
       "          s.src = paths[lib];\n",
       "        });\n",
       "    }\n",
       "\n",
       "    function showError(err) {\n",
       "      outputDiv.innerHTML = `<div class=\"error\" style=\"color:red;\">${err}</div>`;\n",
       "      throw err;\n",
       "    }\n",
       "\n",
       "    function displayChart(vegaEmbed) {\n",
       "      vegaEmbed(outputDiv, spec, embedOpt)\n",
       "        .catch(err => showError(`Javascript Error: ${err.message}<br>This usually means there's a typo in your chart specification. See the javascript console for the full traceback.`));\n",
       "    }\n",
       "\n",
       "    if(typeof define === \"function\" && define.amd) {\n",
       "      requirejs.config({paths});\n",
       "      require([\"vega-embed\"], displayChart, err => showError(`Error loading script: ${err.message}`));\n",
       "    } else {\n",
       "      maybeLoadScript(\"vega\", \"5\")\n",
       "        .then(() => maybeLoadScript(\"vega-lite\", \"4.17.0\"))\n",
       "        .then(() => maybeLoadScript(\"vega-embed\", \"6\"))\n",
       "        .catch(showError)\n",
       "        .then(() => displayChart(vegaEmbed));\n",
       "    }\n",
       "  })({\"config\": {\"view\": {\"continuousWidth\": 400, \"continuousHeight\": 300}}, \"data\": {\"name\": \"data-efe9824f6c199fc2cc6b96a4ba9a668f\"}, \"mark\": \"bar\", \"encoding\": {\"tooltip\": {\"field\": \"count\", \"type\": \"quantitative\"}, \"x\": {\"axis\": {\"title\": \"No. Incidents\"}, \"field\": \"count\", \"type\": \"quantitative\"}, \"y\": {\"axis\": {\"title\": \"Incident Subcategory\"}, \"field\": \"subcategory\", \"sort\": [\"Application Error\", \"application_error\", \"performance_slowness_freezing\", \"Add-In\", \"connectivity\", \"Connection Issues\", \"Application Down or Severely Degraded\", \"Office Repair\", \"Application Crash/Freeze\", \"bios\"], \"type\": \"nominal\"}}, \"title\": \"\", \"$schema\": \"https://vega.github.io/schema/vega-lite/v4.17.0.json\", \"datasets\": {\"data-efe9824f6c199fc2cc6b96a4ba9a668f\": [{\"subcategory\": \"Application Error\", \"count\": 224}, {\"subcategory\": \"application_error\", \"count\": 189}, {\"subcategory\": \"performance_slowness_freezing\", \"count\": 120}, {\"subcategory\": \"Add-In\", \"count\": 91}, {\"subcategory\": \"connectivity\", \"count\": 86}, {\"subcategory\": \"Connection Issues\", \"count\": 70}, {\"subcategory\": \"Application Down or Severely Degraded\", \"count\": 68}, {\"subcategory\": \"Office Repair\", \"count\": 57}, {\"subcategory\": \"Application Crash/Freeze\", \"count\": 54}, {\"subcategory\": \"bios\", \"count\": 53}]}}, {\"mode\": \"vega-lite\"});\n",
       "</script>"
      ],
      "text/plain": [
       "alt.Chart(...)"
      ]
     },
     "execution_count": 122,
     "metadata": {},
     "output_type": "execute_result"
    }
   ],
   "source": [
    "### SUBCATEGORY ### \n",
    "get_compare_chart(s, 'subcategory',  'No. Incidents', 'Incident Subcategory', '')"
   ]
  }
 ],
 "metadata": {
  "kernelspec": {
   "display_name": "Python 3",
   "language": "python",
   "name": "python3"
  },
  "language_info": {
   "codemirror_mode": {
    "name": "ipython",
    "version": 3
   },
   "file_extension": ".py",
   "mimetype": "text/x-python",
   "name": "python",
   "nbconvert_exporter": "python",
   "pygments_lexer": "ipython3",
   "version": "3.11.4"
  }
 },
 "nbformat": 4,
 "nbformat_minor": 0
}
